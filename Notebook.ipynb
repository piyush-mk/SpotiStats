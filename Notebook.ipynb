{
 "cells": [
  {
   "cell_type": "code",
   "execution_count": 2,
   "metadata": {},
   "outputs": [],
   "source": [
    "import numpy as np\n",
    "import pandas as pd\n",
    "import matplotlib\n",
    "import matplotlib.pyplot as plt\n",
    "import seaborn as sns\n",
    "from wordcloud import WordCloud\n"
   ]
  },
  {
   "attachments": {},
   "cell_type": "markdown",
   "metadata": {},
   "source": [
    "## 1. Starter Analysis"
   ]
  },
  {
   "cell_type": "code",
   "execution_count": 3,
   "metadata": {},
   "outputs": [
    {
     "data": {
      "text/html": [
       "<div>\n",
       "<style scoped>\n",
       "    .dataframe tbody tr th:only-of-type {\n",
       "        vertical-align: middle;\n",
       "    }\n",
       "\n",
       "    .dataframe tbody tr th {\n",
       "        vertical-align: top;\n",
       "    }\n",
       "\n",
       "    .dataframe thead th {\n",
       "        text-align: right;\n",
       "    }\n",
       "</style>\n",
       "<table border=\"1\" class=\"dataframe\">\n",
       "  <thead>\n",
       "    <tr style=\"text-align: right;\">\n",
       "      <th></th>\n",
       "      <th>endTime</th>\n",
       "      <th>artistName</th>\n",
       "      <th>trackName</th>\n",
       "      <th>msPlayed</th>\n",
       "    </tr>\n",
       "  </thead>\n",
       "  <tbody>\n",
       "    <tr>\n",
       "      <th>8836</th>\n",
       "      <td>2023-05-05 14:21</td>\n",
       "      <td>A$AP Ferg</td>\n",
       "      <td>Dreams, Fairytales, Fantasies (feat. Brent Fai...</td>\n",
       "      <td>709</td>\n",
       "    </tr>\n",
       "    <tr>\n",
       "      <th>8837</th>\n",
       "      <td>2023-05-05 14:21</td>\n",
       "      <td>A$AP Ferg</td>\n",
       "      <td>Floor Seats</td>\n",
       "      <td>0</td>\n",
       "    </tr>\n",
       "    <tr>\n",
       "      <th>8838</th>\n",
       "      <td>2023-05-05 14:21</td>\n",
       "      <td>Kendrick Lamar</td>\n",
       "      <td>u</td>\n",
       "      <td>833</td>\n",
       "    </tr>\n",
       "    <tr>\n",
       "      <th>8839</th>\n",
       "      <td>2023-05-05 14:26</td>\n",
       "      <td>Baby Keem</td>\n",
       "      <td>trademark usa</td>\n",
       "      <td>270670</td>\n",
       "    </tr>\n",
       "    <tr>\n",
       "      <th>8840</th>\n",
       "      <td>2023-05-05 14:27</td>\n",
       "      <td>A$AP Ferg</td>\n",
       "      <td>Floor Seats</td>\n",
       "      <td>70224</td>\n",
       "    </tr>\n",
       "  </tbody>\n",
       "</table>\n",
       "</div>"
      ],
      "text/plain": [
       "               endTime      artistName   \n",
       "8836  2023-05-05 14:21       A$AP Ferg  \\\n",
       "8837  2023-05-05 14:21       A$AP Ferg   \n",
       "8838  2023-05-05 14:21  Kendrick Lamar   \n",
       "8839  2023-05-05 14:26       Baby Keem   \n",
       "8840  2023-05-05 14:27       A$AP Ferg   \n",
       "\n",
       "                                              trackName  msPlayed  \n",
       "8836  Dreams, Fairytales, Fantasies (feat. Brent Fai...       709  \n",
       "8837                                        Floor Seats         0  \n",
       "8838                                                  u       833  \n",
       "8839                                      trademark usa    270670  \n",
       "8840                                        Floor Seats     70224  "
      ]
     },
     "execution_count": 3,
     "metadata": {},
     "output_type": "execute_result"
    }
   ],
   "source": [
    "spotify_stream_df = pd.read_json(\"MyData/StreamingHistory0.json\")\n",
    "spotify_stream_df.tail()"
   ]
  },
  {
   "cell_type": "code",
   "execution_count": 4,
   "metadata": {},
   "outputs": [
    {
     "data": {
      "text/plain": [
       "(8841, 4)"
      ]
     },
     "execution_count": 4,
     "metadata": {},
     "output_type": "execute_result"
    }
   ],
   "source": [
    "spotify_stream_df.shape"
   ]
  },
  {
   "cell_type": "code",
   "execution_count": 5,
   "metadata": {},
   "outputs": [
    {
     "name": "stdout",
     "output_type": "stream",
     "text": [
      "<class 'pandas.core.frame.DataFrame'>\n",
      "RangeIndex: 8841 entries, 0 to 8840\n",
      "Data columns (total 4 columns):\n",
      " #   Column      Non-Null Count  Dtype \n",
      "---  ------      --------------  ----- \n",
      " 0   endTime     8841 non-null   object\n",
      " 1   artistName  8841 non-null   object\n",
      " 2   trackName   8841 non-null   object\n",
      " 3   msPlayed    8841 non-null   int64 \n",
      "dtypes: int64(1), object(3)\n",
      "memory usage: 276.4+ KB\n"
     ]
    }
   ],
   "source": [
    "spotify_stream_df.info() "
   ]
  },
  {
   "cell_type": "code",
   "execution_count": 6,
   "metadata": {},
   "outputs": [
    {
     "data": {
      "text/plain": [
       "endTime       4667\n",
       "artistName     695\n",
       "trackName     1816\n",
       "msPlayed      4715\n",
       "dtype: int64"
      ]
     },
     "execution_count": 6,
     "metadata": {},
     "output_type": "execute_result"
    }
   ],
   "source": [
    "spotify_stream_df.nunique() # To see the unique elemetns present in each column"
   ]
  },
  {
   "cell_type": "code",
   "execution_count": 7,
   "metadata": {},
   "outputs": [
    {
     "data": {
      "text/html": [
       "<div>\n",
       "<style scoped>\n",
       "    .dataframe tbody tr th:only-of-type {\n",
       "        vertical-align: middle;\n",
       "    }\n",
       "\n",
       "    .dataframe tbody tr th {\n",
       "        vertical-align: top;\n",
       "    }\n",
       "\n",
       "    .dataframe thead th {\n",
       "        text-align: right;\n",
       "    }\n",
       "</style>\n",
       "<table border=\"1\" class=\"dataframe\">\n",
       "  <thead>\n",
       "    <tr style=\"text-align: right;\">\n",
       "      <th></th>\n",
       "      <th>endTime</th>\n",
       "      <th>artistName</th>\n",
       "      <th>trackName</th>\n",
       "      <th>msPlayed</th>\n",
       "    </tr>\n",
       "  </thead>\n",
       "  <tbody>\n",
       "    <tr>\n",
       "      <th>8297</th>\n",
       "      <td>2023-04-26 05:50</td>\n",
       "      <td>The Local Train</td>\n",
       "      <td>Choo Lo</td>\n",
       "      <td>8831</td>\n",
       "    </tr>\n",
       "    <tr>\n",
       "      <th>8707</th>\n",
       "      <td>2023-05-03 19:58</td>\n",
       "      <td>Future</td>\n",
       "      <td>WAIT FOR U (feat. Drake &amp; Tems)</td>\n",
       "      <td>812</td>\n",
       "    </tr>\n",
       "    <tr>\n",
       "      <th>2167</th>\n",
       "      <td>2023-01-13 15:32</td>\n",
       "      <td>Kendrick Lamar</td>\n",
       "      <td>Bitch, Don’t Kill My Vibe</td>\n",
       "      <td>981</td>\n",
       "    </tr>\n",
       "    <tr>\n",
       "      <th>243</th>\n",
       "      <td>2022-12-08 14:10</td>\n",
       "      <td>NAV</td>\n",
       "      <td>Wanted You (feat. Lil Uzi Vert)</td>\n",
       "      <td>2453</td>\n",
       "    </tr>\n",
       "    <tr>\n",
       "      <th>1583</th>\n",
       "      <td>2023-01-01 15:27</td>\n",
       "      <td>Kendrick Lamar</td>\n",
       "      <td>Growing Apart (To Get Closer)</td>\n",
       "      <td>220995</td>\n",
       "    </tr>\n",
       "    <tr>\n",
       "      <th>2024</th>\n",
       "      <td>2023-01-13 09:13</td>\n",
       "      <td>Drake</td>\n",
       "      <td>Knife Talk (with 21 Savage ft. Project Pat)</td>\n",
       "      <td>23</td>\n",
       "    </tr>\n",
       "    <tr>\n",
       "      <th>441</th>\n",
       "      <td>2022-12-09 11:12</td>\n",
       "      <td>Drake</td>\n",
       "      <td>Knife Talk (with 21 Savage ft. Project Pat)</td>\n",
       "      <td>1180</td>\n",
       "    </tr>\n",
       "    <tr>\n",
       "      <th>6485</th>\n",
       "      <td>2023-03-27 03:12</td>\n",
       "      <td>KK</td>\n",
       "      <td>Tum Ho Mera Pyar</td>\n",
       "      <td>7754</td>\n",
       "    </tr>\n",
       "    <tr>\n",
       "      <th>4553</th>\n",
       "      <td>2023-02-22 08:15</td>\n",
       "      <td>Drake</td>\n",
       "      <td>On BS</td>\n",
       "      <td>951</td>\n",
       "    </tr>\n",
       "    <tr>\n",
       "      <th>8568</th>\n",
       "      <td>2023-05-03 14:24</td>\n",
       "      <td>Aditya Rikhari</td>\n",
       "      <td>Faasle</td>\n",
       "      <td>221988</td>\n",
       "    </tr>\n",
       "  </tbody>\n",
       "</table>\n",
       "</div>"
      ],
      "text/plain": [
       "               endTime       artistName   \n",
       "8297  2023-04-26 05:50  The Local Train  \\\n",
       "8707  2023-05-03 19:58           Future   \n",
       "2167  2023-01-13 15:32   Kendrick Lamar   \n",
       "243   2022-12-08 14:10              NAV   \n",
       "1583  2023-01-01 15:27   Kendrick Lamar   \n",
       "2024  2023-01-13 09:13            Drake   \n",
       "441   2022-12-09 11:12            Drake   \n",
       "6485  2023-03-27 03:12               KK   \n",
       "4553  2023-02-22 08:15            Drake   \n",
       "8568  2023-05-03 14:24   Aditya Rikhari   \n",
       "\n",
       "                                        trackName  msPlayed  \n",
       "8297                                      Choo Lo      8831  \n",
       "8707              WAIT FOR U (feat. Drake & Tems)       812  \n",
       "2167                    Bitch, Don’t Kill My Vibe       981  \n",
       "243               Wanted You (feat. Lil Uzi Vert)      2453  \n",
       "1583                Growing Apart (To Get Closer)    220995  \n",
       "2024  Knife Talk (with 21 Savage ft. Project Pat)        23  \n",
       "441   Knife Talk (with 21 Savage ft. Project Pat)      1180  \n",
       "6485                             Tum Ho Mera Pyar      7754  \n",
       "4553                                        On BS       951  \n",
       "8568                                       Faasle    221988  "
      ]
     },
     "execution_count": 7,
     "metadata": {},
     "output_type": "execute_result"
    }
   ],
   "source": [
    "spotify_stream_df.sample(10)"
   ]
  },
  {
   "cell_type": "code",
   "execution_count": 8,
   "metadata": {},
   "outputs": [
    {
     "data": {
      "text/plain": [
       "695"
      ]
     },
     "execution_count": 8,
     "metadata": {},
     "output_type": "execute_result"
    }
   ],
   "source": [
    "len(spotify_stream_df[\"artistName\"].unique()) # Length of unique artist"
   ]
  },
  {
   "cell_type": "markdown",
   "metadata": {},
   "source": [
    "there's 695 number of unique artist in my streaming history"
   ]
  },
  {
   "cell_type": "code",
   "execution_count": 9,
   "metadata": {},
   "outputs": [
    {
     "data": {
      "text/plain": [
       "1816"
      ]
     },
     "execution_count": 9,
     "metadata": {},
     "output_type": "execute_result"
    }
   ],
   "source": [
    "len(spotify_stream_df[\"trackName\"].unique()) # Length of unique tracks"
   ]
  },
  {
   "attachments": {},
   "cell_type": "markdown",
   "metadata": {},
   "source": [
    "there's 1816 number of unique songs in my streaming history"
   ]
  },
  {
   "attachments": {},
   "cell_type": "markdown",
   "metadata": {},
   "source": [
    "## 2. Cleaning and Formatting Data"
   ]
  },
  {
   "attachments": {},
   "cell_type": "markdown",
   "metadata": {},
   "source": [
    "pd.to_datetime method from Pandas module to convert a object column into proper date time column."
   ]
  },
  {
   "attachments": {},
   "cell_type": "markdown",
   "metadata": {},
   "source": [
    "using the to_datetime module to obatin the proper date time format and then we added that into a new column called Play-Time."
   ]
  },
  {
   "cell_type": "code",
   "execution_count": 10,
   "metadata": {},
   "outputs": [],
   "source": [
    "spotify_stream_df[\"Play-Time\"]= pd.to_datetime(spotify_stream_df[\"endTime\"])"
   ]
  },
  {
   "attachments": {},
   "cell_type": "markdown",
   "metadata": {},
   "source": [
    "- year has information about the year when we played that song\n",
    "- month has information about the month when we played that song\n",
    "- weekday has information about the weekday when we played that song\n",
    "- time has information about the time when we played that song\n",
    "- hours has information about the hour when we played that song\n",
    "- day-name has information about the day with the name when we played that song. apply method for pandas dataframe with lambda function.\n",
    "- new column count to keep track of the count of the songs."
   ]
  },
  {
   "cell_type": "code",
   "execution_count": 11,
   "metadata": {},
   "outputs": [],
   "source": [
    "spotify_stream_df['year'] = pd.DatetimeIndex(spotify_stream_df[\"Play-Time\"]).year\n",
    "spotify_stream_df['month'] = pd.DatetimeIndex(spotify_stream_df[\"Play-Time\"]).month\n",
    "spotify_stream_df['day'] = pd.DatetimeIndex(spotify_stream_df[\"Play-Time\"]).day\n",
    "spotify_stream_df['weekday'] = pd.DatetimeIndex(spotify_stream_df[\"Play-Time\"]).weekday\n",
    "spotify_stream_df['time'] = pd.DatetimeIndex(spotify_stream_df[\"Play-Time\"]).time\n",
    "spotify_stream_df['hours'] = pd.DatetimeIndex(spotify_stream_df[\"Play-Time\"]).hour\n",
    "spotify_stream_df['day-name'] = spotify_stream_df[\"Play-Time\"].apply(lambda x: x.day_name())\n",
    "spotify_stream_df['Count'] = 1 "
   ]
  },
  {
   "cell_type": "code",
   "execution_count": 12,
   "metadata": {},
   "outputs": [],
   "source": [
    "spotify_stream_df[\"Time-Played (hh-mm-ss)\"] = pd.to_timedelta(spotify_stream_df[\"msPlayed\"], unit='ms')"
   ]
  },
  {
   "attachments": {},
   "cell_type": "markdown",
   "metadata": {},
   "source": [
    "hours and minutes calculation"
   ]
  },
  {
   "cell_type": "code",
   "execution_count": 13,
   "metadata": {},
   "outputs": [],
   "source": [
    "def hours(td):\n",
    "    return td.seconds/3600\n",
    "\n",
    "def minutes(td):\n",
    "    return (td.seconds/60)%60\n",
    "\n",
    "spotify_stream_df[\"Listening Time(Hours)\"] = spotify_stream_df[\"Time-Played (hh-mm-ss)\"].apply(hours).round(3)\n",
    "spotify_stream_df[\"Listening Time(Minutes)\"] = spotify_stream_df[\"Time-Played (hh-mm-ss)\"].apply(minutes).round(3)\n"
   ]
  },
  {
   "cell_type": "code",
   "execution_count": 14,
   "metadata": {},
   "outputs": [
    {
     "data": {
      "text/html": [
       "<div>\n",
       "<style scoped>\n",
       "    .dataframe tbody tr th:only-of-type {\n",
       "        vertical-align: middle;\n",
       "    }\n",
       "\n",
       "    .dataframe tbody tr th {\n",
       "        vertical-align: top;\n",
       "    }\n",
       "\n",
       "    .dataframe thead th {\n",
       "        text-align: right;\n",
       "    }\n",
       "</style>\n",
       "<table border=\"1\" class=\"dataframe\">\n",
       "  <thead>\n",
       "    <tr style=\"text-align: right;\">\n",
       "      <th></th>\n",
       "      <th>endTime</th>\n",
       "      <th>artistName</th>\n",
       "      <th>trackName</th>\n",
       "      <th>msPlayed</th>\n",
       "      <th>Play-Time</th>\n",
       "      <th>year</th>\n",
       "      <th>month</th>\n",
       "      <th>day</th>\n",
       "      <th>weekday</th>\n",
       "      <th>time</th>\n",
       "      <th>hours</th>\n",
       "      <th>day-name</th>\n",
       "      <th>Count</th>\n",
       "      <th>Time-Played (hh-mm-ss)</th>\n",
       "      <th>Listening Time(Hours)</th>\n",
       "      <th>Listening Time(Minutes)</th>\n",
       "    </tr>\n",
       "  </thead>\n",
       "  <tbody>\n",
       "    <tr>\n",
       "      <th>3922</th>\n",
       "      <td>2023-02-11 22:25</td>\n",
       "      <td>DHARIA</td>\n",
       "      <td>August Diaries</td>\n",
       "      <td>798</td>\n",
       "      <td>2023-02-11 22:25:00</td>\n",
       "      <td>2023</td>\n",
       "      <td>2</td>\n",
       "      <td>11</td>\n",
       "      <td>5</td>\n",
       "      <td>22:25:00</td>\n",
       "      <td>22</td>\n",
       "      <td>Saturday</td>\n",
       "      <td>1</td>\n",
       "      <td>0 days 00:00:00.798000</td>\n",
       "      <td>0.000</td>\n",
       "      <td>0.000</td>\n",
       "    </tr>\n",
       "    <tr>\n",
       "      <th>7609</th>\n",
       "      <td>2023-04-11 07:00</td>\n",
       "      <td>Metro Boomin</td>\n",
       "      <td>Metro Spider (with Young Thug)</td>\n",
       "      <td>174560</td>\n",
       "      <td>2023-04-11 07:00:00</td>\n",
       "      <td>2023</td>\n",
       "      <td>4</td>\n",
       "      <td>11</td>\n",
       "      <td>1</td>\n",
       "      <td>07:00:00</td>\n",
       "      <td>7</td>\n",
       "      <td>Tuesday</td>\n",
       "      <td>1</td>\n",
       "      <td>0 days 00:02:54.560000</td>\n",
       "      <td>0.048</td>\n",
       "      <td>2.900</td>\n",
       "    </tr>\n",
       "    <tr>\n",
       "      <th>5922</th>\n",
       "      <td>2023-03-21 12:10</td>\n",
       "      <td>Kendrick Lamar</td>\n",
       "      <td>ELEMENT.</td>\n",
       "      <td>0</td>\n",
       "      <td>2023-03-21 12:10:00</td>\n",
       "      <td>2023</td>\n",
       "      <td>3</td>\n",
       "      <td>21</td>\n",
       "      <td>1</td>\n",
       "      <td>12:10:00</td>\n",
       "      <td>12</td>\n",
       "      <td>Tuesday</td>\n",
       "      <td>1</td>\n",
       "      <td>0 days 00:00:00</td>\n",
       "      <td>0.000</td>\n",
       "      <td>0.000</td>\n",
       "    </tr>\n",
       "    <tr>\n",
       "      <th>677</th>\n",
       "      <td>2022-12-19 18:15</td>\n",
       "      <td>21 Savage</td>\n",
       "      <td>Brand New Draco</td>\n",
       "      <td>2830</td>\n",
       "      <td>2022-12-19 18:15:00</td>\n",
       "      <td>2022</td>\n",
       "      <td>12</td>\n",
       "      <td>19</td>\n",
       "      <td>0</td>\n",
       "      <td>18:15:00</td>\n",
       "      <td>18</td>\n",
       "      <td>Monday</td>\n",
       "      <td>1</td>\n",
       "      <td>0 days 00:00:02.830000</td>\n",
       "      <td>0.001</td>\n",
       "      <td>0.033</td>\n",
       "    </tr>\n",
       "    <tr>\n",
       "      <th>3571</th>\n",
       "      <td>2023-02-07 01:46</td>\n",
       "      <td>Kendrick Lamar</td>\n",
       "      <td>N95</td>\n",
       "      <td>1609</td>\n",
       "      <td>2023-02-07 01:46:00</td>\n",
       "      <td>2023</td>\n",
       "      <td>2</td>\n",
       "      <td>7</td>\n",
       "      <td>1</td>\n",
       "      <td>01:46:00</td>\n",
       "      <td>1</td>\n",
       "      <td>Tuesday</td>\n",
       "      <td>1</td>\n",
       "      <td>0 days 00:00:01.609000</td>\n",
       "      <td>0.000</td>\n",
       "      <td>0.017</td>\n",
       "    </tr>\n",
       "    <tr>\n",
       "      <th>4218</th>\n",
       "      <td>2023-02-17 15:19</td>\n",
       "      <td>King</td>\n",
       "      <td>Desi Dan Bilzerian</td>\n",
       "      <td>81430</td>\n",
       "      <td>2023-02-17 15:19:00</td>\n",
       "      <td>2023</td>\n",
       "      <td>2</td>\n",
       "      <td>17</td>\n",
       "      <td>4</td>\n",
       "      <td>15:19:00</td>\n",
       "      <td>15</td>\n",
       "      <td>Friday</td>\n",
       "      <td>1</td>\n",
       "      <td>0 days 00:01:21.430000</td>\n",
       "      <td>0.022</td>\n",
       "      <td>1.350</td>\n",
       "    </tr>\n",
       "    <tr>\n",
       "      <th>8302</th>\n",
       "      <td>2023-04-26 19:08</td>\n",
       "      <td>Kanye West</td>\n",
       "      <td>No More Parties In LA</td>\n",
       "      <td>3710</td>\n",
       "      <td>2023-04-26 19:08:00</td>\n",
       "      <td>2023</td>\n",
       "      <td>4</td>\n",
       "      <td>26</td>\n",
       "      <td>2</td>\n",
       "      <td>19:08:00</td>\n",
       "      <td>19</td>\n",
       "      <td>Wednesday</td>\n",
       "      <td>1</td>\n",
       "      <td>0 days 00:00:03.710000</td>\n",
       "      <td>0.001</td>\n",
       "      <td>0.050</td>\n",
       "    </tr>\n",
       "    <tr>\n",
       "      <th>2540</th>\n",
       "      <td>2023-01-19 08:38</td>\n",
       "      <td>Drake</td>\n",
       "      <td>What’s Next</td>\n",
       "      <td>44743</td>\n",
       "      <td>2023-01-19 08:38:00</td>\n",
       "      <td>2023</td>\n",
       "      <td>1</td>\n",
       "      <td>19</td>\n",
       "      <td>3</td>\n",
       "      <td>08:38:00</td>\n",
       "      <td>8</td>\n",
       "      <td>Thursday</td>\n",
       "      <td>1</td>\n",
       "      <td>0 days 00:00:44.743000</td>\n",
       "      <td>0.012</td>\n",
       "      <td>0.733</td>\n",
       "    </tr>\n",
       "    <tr>\n",
       "      <th>6454</th>\n",
       "      <td>2023-03-26 16:33</td>\n",
       "      <td>Metro Boomin</td>\n",
       "      <td>Feel The Fiyaaaah (with A$AP Rocky &amp; feat. Tak...</td>\n",
       "      <td>251</td>\n",
       "      <td>2023-03-26 16:33:00</td>\n",
       "      <td>2023</td>\n",
       "      <td>3</td>\n",
       "      <td>26</td>\n",
       "      <td>6</td>\n",
       "      <td>16:33:00</td>\n",
       "      <td>16</td>\n",
       "      <td>Sunday</td>\n",
       "      <td>1</td>\n",
       "      <td>0 days 00:00:00.251000</td>\n",
       "      <td>0.000</td>\n",
       "      <td>0.000</td>\n",
       "    </tr>\n",
       "    <tr>\n",
       "      <th>3655</th>\n",
       "      <td>2023-02-08 12:19</td>\n",
       "      <td>Kendrick Lamar</td>\n",
       "      <td>Money Trees</td>\n",
       "      <td>2150</td>\n",
       "      <td>2023-02-08 12:19:00</td>\n",
       "      <td>2023</td>\n",
       "      <td>2</td>\n",
       "      <td>8</td>\n",
       "      <td>2</td>\n",
       "      <td>12:19:00</td>\n",
       "      <td>12</td>\n",
       "      <td>Wednesday</td>\n",
       "      <td>1</td>\n",
       "      <td>0 days 00:00:02.150000</td>\n",
       "      <td>0.001</td>\n",
       "      <td>0.033</td>\n",
       "    </tr>\n",
       "  </tbody>\n",
       "</table>\n",
       "</div>"
      ],
      "text/plain": [
       "               endTime      artistName   \n",
       "3922  2023-02-11 22:25          DHARIA  \\\n",
       "7609  2023-04-11 07:00    Metro Boomin   \n",
       "5922  2023-03-21 12:10  Kendrick Lamar   \n",
       "677   2022-12-19 18:15       21 Savage   \n",
       "3571  2023-02-07 01:46  Kendrick Lamar   \n",
       "4218  2023-02-17 15:19            King   \n",
       "8302  2023-04-26 19:08      Kanye West   \n",
       "2540  2023-01-19 08:38           Drake   \n",
       "6454  2023-03-26 16:33    Metro Boomin   \n",
       "3655  2023-02-08 12:19  Kendrick Lamar   \n",
       "\n",
       "                                              trackName  msPlayed   \n",
       "3922                                     August Diaries       798  \\\n",
       "7609                     Metro Spider (with Young Thug)    174560   \n",
       "5922                                           ELEMENT.         0   \n",
       "677                                     Brand New Draco      2830   \n",
       "3571                                                N95      1609   \n",
       "4218                                 Desi Dan Bilzerian     81430   \n",
       "8302                              No More Parties In LA      3710   \n",
       "2540                                        What’s Next     44743   \n",
       "6454  Feel The Fiyaaaah (with A$AP Rocky & feat. Tak...       251   \n",
       "3655                                        Money Trees      2150   \n",
       "\n",
       "               Play-Time  year  month  day  weekday      time  hours   \n",
       "3922 2023-02-11 22:25:00  2023      2   11        5  22:25:00     22  \\\n",
       "7609 2023-04-11 07:00:00  2023      4   11        1  07:00:00      7   \n",
       "5922 2023-03-21 12:10:00  2023      3   21        1  12:10:00     12   \n",
       "677  2022-12-19 18:15:00  2022     12   19        0  18:15:00     18   \n",
       "3571 2023-02-07 01:46:00  2023      2    7        1  01:46:00      1   \n",
       "4218 2023-02-17 15:19:00  2023      2   17        4  15:19:00     15   \n",
       "8302 2023-04-26 19:08:00  2023      4   26        2  19:08:00     19   \n",
       "2540 2023-01-19 08:38:00  2023      1   19        3  08:38:00      8   \n",
       "6454 2023-03-26 16:33:00  2023      3   26        6  16:33:00     16   \n",
       "3655 2023-02-08 12:19:00  2023      2    8        2  12:19:00     12   \n",
       "\n",
       "       day-name  Count Time-Played (hh-mm-ss)  Listening Time(Hours)   \n",
       "3922   Saturday      1 0 days 00:00:00.798000                  0.000  \\\n",
       "7609    Tuesday      1 0 days 00:02:54.560000                  0.048   \n",
       "5922    Tuesday      1        0 days 00:00:00                  0.000   \n",
       "677      Monday      1 0 days 00:00:02.830000                  0.001   \n",
       "3571    Tuesday      1 0 days 00:00:01.609000                  0.000   \n",
       "4218     Friday      1 0 days 00:01:21.430000                  0.022   \n",
       "8302  Wednesday      1 0 days 00:00:03.710000                  0.001   \n",
       "2540   Thursday      1 0 days 00:00:44.743000                  0.012   \n",
       "6454     Sunday      1 0 days 00:00:00.251000                  0.000   \n",
       "3655  Wednesday      1 0 days 00:00:02.150000                  0.001   \n",
       "\n",
       "      Listening Time(Minutes)  \n",
       "3922                    0.000  \n",
       "7609                    2.900  \n",
       "5922                    0.000  \n",
       "677                     0.033  \n",
       "3571                    0.017  \n",
       "4218                    1.350  \n",
       "8302                    0.050  \n",
       "2540                    0.733  \n",
       "6454                    0.000  \n",
       "3655                    0.033  "
      ]
     },
     "execution_count": 14,
     "metadata": {},
     "output_type": "execute_result"
    }
   ],
   "source": [
    "spotify_stream_df.sample(10)"
   ]
  },
  {
   "attachments": {},
   "cell_type": "markdown",
   "metadata": {},
   "source": [
    "dropping\n",
    "1. endTime as we have Play-Time column\n",
    "2. msPlayed as we got the Time-Played (hh-mm-ss)\n",
    "3. Time-Played (hh-mm-ss) as we got the approx time in minutes and hours in Listening Time(Hours) and Listening Time(Minutes).\n"
   ]
  },
  {
   "cell_type": "code",
   "execution_count": 15,
   "metadata": {},
   "outputs": [],
   "source": [
    "spotify_stream_df.drop(columns=[\"endTime\",\"Time-Played (hh-mm-ss)\",\"msPlayed\"], inplace=True)"
   ]
  },
  {
   "cell_type": "code",
   "execution_count": 16,
   "metadata": {},
   "outputs": [
    {
     "data": {
      "text/html": [
       "<div>\n",
       "<style scoped>\n",
       "    .dataframe tbody tr th:only-of-type {\n",
       "        vertical-align: middle;\n",
       "    }\n",
       "\n",
       "    .dataframe tbody tr th {\n",
       "        vertical-align: top;\n",
       "    }\n",
       "\n",
       "    .dataframe thead th {\n",
       "        text-align: right;\n",
       "    }\n",
       "</style>\n",
       "<table border=\"1\" class=\"dataframe\">\n",
       "  <thead>\n",
       "    <tr style=\"text-align: right;\">\n",
       "      <th></th>\n",
       "      <th>Play-Time</th>\n",
       "      <th>year</th>\n",
       "      <th>month</th>\n",
       "      <th>day</th>\n",
       "      <th>weekday</th>\n",
       "      <th>hours</th>\n",
       "      <th>Count</th>\n",
       "      <th>Listening Time(Hours)</th>\n",
       "      <th>Listening Time(Minutes)</th>\n",
       "    </tr>\n",
       "  </thead>\n",
       "  <tbody>\n",
       "    <tr>\n",
       "      <th>count</th>\n",
       "      <td>8841</td>\n",
       "      <td>8841.000000</td>\n",
       "      <td>8841.000000</td>\n",
       "      <td>8841.000000</td>\n",
       "      <td>8841.000000</td>\n",
       "      <td>8841.000000</td>\n",
       "      <td>8841.0</td>\n",
       "      <td>8841.000000</td>\n",
       "      <td>8841.000000</td>\n",
       "    </tr>\n",
       "    <tr>\n",
       "      <th>mean</th>\n",
       "      <td>2023-02-20 10:03:08.232100352</td>\n",
       "      <td>2022.829205</td>\n",
       "      <td>4.239792</td>\n",
       "      <td>15.386834</td>\n",
       "      <td>2.965502</td>\n",
       "      <td>11.719602</td>\n",
       "      <td>1.0</td>\n",
       "      <td>0.023426</td>\n",
       "      <td>1.399756</td>\n",
       "    </tr>\n",
       "    <tr>\n",
       "      <th>min</th>\n",
       "      <td>2022-07-14 16:51:00</td>\n",
       "      <td>2022.000000</td>\n",
       "      <td>1.000000</td>\n",
       "      <td>1.000000</td>\n",
       "      <td>0.000000</td>\n",
       "      <td>0.000000</td>\n",
       "      <td>1.0</td>\n",
       "      <td>0.000000</td>\n",
       "      <td>0.000000</td>\n",
       "    </tr>\n",
       "    <tr>\n",
       "      <th>25%</th>\n",
       "      <td>2023-01-13 16:11:00</td>\n",
       "      <td>2023.000000</td>\n",
       "      <td>2.000000</td>\n",
       "      <td>7.000000</td>\n",
       "      <td>1.000000</td>\n",
       "      <td>7.000000</td>\n",
       "      <td>1.0</td>\n",
       "      <td>0.000000</td>\n",
       "      <td>0.017000</td>\n",
       "    </tr>\n",
       "    <tr>\n",
       "      <th>50%</th>\n",
       "      <td>2023-02-20 07:38:00</td>\n",
       "      <td>2023.000000</td>\n",
       "      <td>3.000000</td>\n",
       "      <td>16.000000</td>\n",
       "      <td>3.000000</td>\n",
       "      <td>12.000000</td>\n",
       "      <td>1.0</td>\n",
       "      <td>0.003000</td>\n",
       "      <td>0.183000</td>\n",
       "    </tr>\n",
       "    <tr>\n",
       "      <th>75%</th>\n",
       "      <td>2023-03-29 17:26:00</td>\n",
       "      <td>2023.000000</td>\n",
       "      <td>4.000000</td>\n",
       "      <td>23.000000</td>\n",
       "      <td>5.000000</td>\n",
       "      <td>17.000000</td>\n",
       "      <td>1.0</td>\n",
       "      <td>0.050000</td>\n",
       "      <td>3.017000</td>\n",
       "    </tr>\n",
       "    <tr>\n",
       "      <th>max</th>\n",
       "      <td>2023-05-05 14:27:00</td>\n",
       "      <td>2023.000000</td>\n",
       "      <td>12.000000</td>\n",
       "      <td>31.000000</td>\n",
       "      <td>6.000000</td>\n",
       "      <td>23.000000</td>\n",
       "      <td>1.0</td>\n",
       "      <td>1.208000</td>\n",
       "      <td>12.500000</td>\n",
       "    </tr>\n",
       "    <tr>\n",
       "      <th>std</th>\n",
       "      <td>NaN</td>\n",
       "      <td>0.376351</td>\n",
       "      <td>3.676968</td>\n",
       "      <td>8.744404</td>\n",
       "      <td>1.928251</td>\n",
       "      <td>6.092721</td>\n",
       "      <td>0.0</td>\n",
       "      <td>0.031115</td>\n",
       "      <td>1.709932</td>\n",
       "    </tr>\n",
       "  </tbody>\n",
       "</table>\n",
       "</div>"
      ],
      "text/plain": [
       "                           Play-Time         year        month          day   \n",
       "count                           8841  8841.000000  8841.000000  8841.000000  \\\n",
       "mean   2023-02-20 10:03:08.232100352  2022.829205     4.239792    15.386834   \n",
       "min              2022-07-14 16:51:00  2022.000000     1.000000     1.000000   \n",
       "25%              2023-01-13 16:11:00  2023.000000     2.000000     7.000000   \n",
       "50%              2023-02-20 07:38:00  2023.000000     3.000000    16.000000   \n",
       "75%              2023-03-29 17:26:00  2023.000000     4.000000    23.000000   \n",
       "max              2023-05-05 14:27:00  2023.000000    12.000000    31.000000   \n",
       "std                              NaN     0.376351     3.676968     8.744404   \n",
       "\n",
       "           weekday        hours   Count  Listening Time(Hours)   \n",
       "count  8841.000000  8841.000000  8841.0            8841.000000  \\\n",
       "mean      2.965502    11.719602     1.0               0.023426   \n",
       "min       0.000000     0.000000     1.0               0.000000   \n",
       "25%       1.000000     7.000000     1.0               0.000000   \n",
       "50%       3.000000    12.000000     1.0               0.003000   \n",
       "75%       5.000000    17.000000     1.0               0.050000   \n",
       "max       6.000000    23.000000     1.0               1.208000   \n",
       "std       1.928251     6.092721     0.0               0.031115   \n",
       "\n",
       "       Listening Time(Minutes)  \n",
       "count              8841.000000  \n",
       "mean                  1.399756  \n",
       "min                   0.000000  \n",
       "25%                   0.017000  \n",
       "50%                   0.183000  \n",
       "75%                   3.017000  \n",
       "max                  12.500000  \n",
       "std                   1.709932  "
      ]
     },
     "execution_count": 16,
     "metadata": {},
     "output_type": "execute_result"
    }
   ],
   "source": [
    "spotify_stream_df.describe()"
   ]
  },
  {
   "attachments": {},
   "cell_type": "markdown",
   "metadata": {},
   "source": [
    "## 3. Exploratory Data Analysis and Visualization"
   ]
  },
  {
   "cell_type": "code",
   "execution_count": 17,
   "metadata": {},
   "outputs": [
    {
     "name": "stderr",
     "output_type": "stream",
     "text": [
      "/tmp/ipykernel_7039/1738326915.py:2: MatplotlibDeprecationWarning: The seaborn styles shipped by Matplotlib are deprecated since 3.6, as they no longer correspond to the styles shipped by seaborn. However, they will remain available as 'seaborn-v0_8-<style>'. Alternatively, directly use the seaborn API instead.\n",
      "  plt.style.use('seaborn-darkgrid')\n"
     ]
    }
   ],
   "source": [
    "sns.set_style('darkgrid')\n",
    "plt.style.use('seaborn-darkgrid')\n",
    "\n",
    "matplotlib.rcParams['font.size'] = 14\n",
    "matplotlib.rcParams['figure.figsize'] = (9, 5)\n",
    "matplotlib.rcParams['figure.facecolor'] = '#00000000'"
   ]
  },
  {
   "attachments": {},
   "cell_type": "markdown",
   "metadata": {},
   "source": [
    "### 3.1 unique artist exploration"
   ]
  },
  {
   "cell_type": "code",
   "execution_count": 18,
   "metadata": {},
   "outputs": [
    {
     "data": {
      "text/plain": [
       "7.8611016853297135"
      ]
     },
     "execution_count": 18,
     "metadata": {},
     "output_type": "execute_result"
    }
   ],
   "source": [
    "unique_artists = spotify_stream_df[\"artistName\"].nunique() \n",
    "total_artists = spotify_stream_df[\"artistName\"].count() \n",
    "unique_artist_percentage = unique_artists/total_artists*100 \n",
    "unique_artist_percentage"
   ]
  },
  {
   "attachments": {},
   "cell_type": "markdown",
   "metadata": {},
   "source": [
    "### 3.2 top 10 unique artist"
   ]
  },
  {
   "cell_type": "code",
   "execution_count": 19,
   "metadata": {},
   "outputs": [
    {
     "data": {
      "text/html": [
       "<div>\n",
       "<style scoped>\n",
       "    .dataframe tbody tr th:only-of-type {\n",
       "        vertical-align: middle;\n",
       "    }\n",
       "\n",
       "    .dataframe tbody tr th {\n",
       "        vertical-align: top;\n",
       "    }\n",
       "\n",
       "    .dataframe thead th {\n",
       "        text-align: right;\n",
       "    }\n",
       "</style>\n",
       "<table border=\"1\" class=\"dataframe\">\n",
       "  <thead>\n",
       "    <tr style=\"text-align: right;\">\n",
       "      <th></th>\n",
       "      <th>Listening Time(Hours)</th>\n",
       "      <th>Listening Time(Minutes)</th>\n",
       "      <th>Count</th>\n",
       "    </tr>\n",
       "    <tr>\n",
       "      <th>artistName</th>\n",
       "      <th></th>\n",
       "      <th></th>\n",
       "      <th></th>\n",
       "    </tr>\n",
       "  </thead>\n",
       "  <tbody>\n",
       "    <tr>\n",
       "      <th>Metro Boomin</th>\n",
       "      <td>27.558</td>\n",
       "      <td>1654.526</td>\n",
       "      <td>893</td>\n",
       "    </tr>\n",
       "    <tr>\n",
       "      <th>Kendrick Lamar</th>\n",
       "      <td>24.485</td>\n",
       "      <td>1471.179</td>\n",
       "      <td>1098</td>\n",
       "    </tr>\n",
       "    <tr>\n",
       "      <th>21 Savage</th>\n",
       "      <td>16.434</td>\n",
       "      <td>987.067</td>\n",
       "      <td>611</td>\n",
       "    </tr>\n",
       "    <tr>\n",
       "      <th>Drake</th>\n",
       "      <td>9.393</td>\n",
       "      <td>565.509</td>\n",
       "      <td>400</td>\n",
       "    </tr>\n",
       "    <tr>\n",
       "      <th>Kanye West</th>\n",
       "      <td>8.778</td>\n",
       "      <td>526.805</td>\n",
       "      <td>345</td>\n",
       "    </tr>\n",
       "    <tr>\n",
       "      <th>Baby Keem</th>\n",
       "      <td>5.862</td>\n",
       "      <td>351.867</td>\n",
       "      <td>259</td>\n",
       "    </tr>\n",
       "    <tr>\n",
       "      <th>Joji</th>\n",
       "      <td>5.480</td>\n",
       "      <td>329.040</td>\n",
       "      <td>270</td>\n",
       "    </tr>\n",
       "    <tr>\n",
       "      <th>Travis Scott</th>\n",
       "      <td>5.002</td>\n",
       "      <td>299.826</td>\n",
       "      <td>230</td>\n",
       "    </tr>\n",
       "    <tr>\n",
       "      <th>The Local Train</th>\n",
       "      <td>3.543</td>\n",
       "      <td>211.851</td>\n",
       "      <td>132</td>\n",
       "    </tr>\n",
       "    <tr>\n",
       "      <th>Aditya Rikhari</th>\n",
       "      <td>3.013</td>\n",
       "      <td>181.621</td>\n",
       "      <td>84</td>\n",
       "    </tr>\n",
       "  </tbody>\n",
       "</table>\n",
       "</div>"
      ],
      "text/plain": [
       "                 Listening Time(Hours)  Listening Time(Minutes)  Count\n",
       "artistName                                                            \n",
       "Metro Boomin                    27.558                 1654.526    893\n",
       "Kendrick Lamar                  24.485                 1471.179   1098\n",
       "21 Savage                       16.434                  987.067    611\n",
       "Drake                            9.393                  565.509    400\n",
       "Kanye West                       8.778                  526.805    345\n",
       "Baby Keem                        5.862                  351.867    259\n",
       "Joji                             5.480                  329.040    270\n",
       "Travis Scott                     5.002                  299.826    230\n",
       "The Local Train                  3.543                  211.851    132\n",
       "Aditya Rikhari                   3.013                  181.621     84"
      ]
     },
     "execution_count": 19,
     "metadata": {},
     "output_type": "execute_result"
    }
   ],
   "source": [
    "top_10_artist_df = spotify_stream_df.groupby([\"artistName\"])[[\"Listening Time(Hours)\",\"Listening Time(Minutes)\",\"Count\"]].sum().sort_values(by=\"Listening Time(Minutes)\",ascending=False)\n",
    "top_10_artist_df.head(10)"
   ]
  },
  {
   "cell_type": "code",
   "execution_count": 20,
   "metadata": {},
   "outputs": [],
   "source": [
    "top_10_artist_time_df = spotify_stream_df.groupby([\"artistName\"])[[\"Listening Time(Hours)\",\"Listening Time(Minutes)\",\"Count\"]].sum().sort_values(by=\"Listening Time(Minutes)\",ascending=False)"
   ]
  },
  {
   "cell_type": "code",
   "execution_count": 21,
   "metadata": {},
   "outputs": [
    {
     "data": {
      "text/plain": [
       "([0, 1, 2, 3, 4, 5, 6, 7, 8, 9],\n",
       " [Text(0, 0, 'Metro Boomin'),\n",
       "  Text(1, 0, 'Kendrick Lamar'),\n",
       "  Text(2, 0, '21 Savage'),\n",
       "  Text(3, 0, 'Drake'),\n",
       "  Text(4, 0, 'Kanye West'),\n",
       "  Text(5, 0, 'Baby Keem'),\n",
       "  Text(6, 0, 'Joji'),\n",
       "  Text(7, 0, 'Travis Scott'),\n",
       "  Text(8, 0, 'The Local Train'),\n",
       "  Text(9, 0, 'Aditya Rikhari')])"
      ]
     },
     "execution_count": 21,
     "metadata": {},
     "output_type": "execute_result"
    },
    {
     "data": {
      "image/png": "[encoded data removed]",
      "text/plain": [
       "<Figure size 1200x800 with 1 Axes>"
      ]
     },
     "metadata": {
      "needs_background": "light"
     },
     "output_type": "display_data"
    }
   ],
   "source": [
    "fig,ax = plt.subplots(figsize=(12,8))\n",
    "ax.bar(top_10_artist_time_df.head(10).index,top_10_artist_time_df[\"Listening Time(Hours)\"].head(10),color='green')\n",
    "ax.set(title=\"My Top 10 Artist (based on Listening Time)\",xlabel=\"Artists\",ylabel=\"No. of Hours Songs Played\")\n",
    "plt.xticks(rotation=75)"
   ]
  },
  {
   "attachments": {},
   "cell_type": "markdown",
   "metadata": {},
   "source": [
    "black dashed line is the mean"
   ]
  },
  {
   "cell_type": "code",
   "execution_count": 22,
   "metadata": {},
   "outputs": [
    {
     "data": {
      "image/png": "[encoded data removed]",
      "text/plain": [
       "<Figure size 2000x500 with 2 Axes>"
      ]
     },
     "metadata": {
      "needs_background": "light"
     },
     "output_type": "display_data"
    }
   ],
   "source": [
    "top_10_artist_count_df = spotify_stream_df.groupby([\"artistName\"])[[\"Listening Time(Hours)\",\"Listening Time(Minutes)\",\"Count\"]].sum().sort_values(by=\"Count\",ascending=False)\n",
    "fig, (ax1,ax2) = plt.subplots(1,2,figsize=(20,5))\n",
    "\n",
    "ax1.bar(top_10_artist_df.head(10).index,top_10_artist_time_df[\"Listening Time(Hours)\"].head(10), color=\"green\")\n",
    "ax1.set(title=\"My Top 10 Artist (based on Listening Time)\",xlabel=\"Artists\",ylabel=\"No. of Hours Songs Played\");\n",
    "ax1.tick_params(labelrotation=75)\n",
    "ax1.axhline(top_10_artist_time_df[\"Listening Time(Hours)\"][:100].mean(), linestyle=\"--\", color=\"black\")\n",
    "\n",
    "ax2.bar(top_10_artist_count_df.head(10).index,top_10_artist_count_df[\"Count\"].head(10), color=\"orange\")\n",
    "ax2.set(title=\"My Top 10 Artist (based on Count)\",xlabel=\"Artists\",ylabel=\"No. of Times Songs Played\");\n",
    "ax2.tick_params(labelrotation=75)\n",
    "ax2.axhline(top_10_artist_count_df[\"Count\"][:100].mean(), linestyle=\"--\", color=\"black\");"
   ]
  },
  {
   "attachments": {},
   "cell_type": "markdown",
   "metadata": {},
   "source": [
    "### 3.3 Song track exploration"
   ]
  },
  {
   "attachments": {},
   "cell_type": "markdown",
   "metadata": {},
   "source": [
    "3.3.1 percentage of unique songs"
   ]
  },
  {
   "cell_type": "code",
   "execution_count": 23,
   "metadata": {},
   "outputs": [
    {
     "data": {
      "text/plain": [
       "20.540662820947855"
      ]
     },
     "execution_count": 23,
     "metadata": {},
     "output_type": "execute_result"
    }
   ],
   "source": [
    "unique_songs = spotify_stream_df[\"trackName\"].nunique()\n",
    "total_songs = spotify_stream_df[\"trackName\"].count()\n",
    "unique_songs_percentage = unique_songs/total_songs*100\n",
    "unique_songs_percentage"
   ]
  },
  {
   "cell_type": "code",
   "execution_count": null,
   "metadata": {},
   "outputs": [],
   "source": []
  }
 ],
 "metadata": {
  "kernelspec": {
   "display_name": "Python 3 (ipykernel)",
   "language": "python",
   "name": "python3"
  },
  "language_info": {
   "codemirror_mode": {
    "name": "ipython",
    "version": 3
   },
   "file_extension": ".py",
   "mimetype": "text/x-python",
   "name": "python",
   "nbconvert_exporter": "python",
   "pygments_lexer": "ipython3",
   "version": "3.10.11"
  }
 },
 "nbformat": 4,
 "nbformat_minor": 2
}
