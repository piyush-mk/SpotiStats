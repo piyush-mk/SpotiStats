{
 "cells": [
  {
   "cell_type": "code",
   "execution_count": 1,
   "metadata": {},
   "outputs": [],
   "source": [
    "import numpy as np\n",
    "import pandas as pd\n",
    "import matplotlib\n",
    "import matplotlib.pyplot as plt\n",
    "import seaborn as sns\n",
    "from wordcloud import WordCloud\n"
   ]
  },
  {
   "cell_type": "code",
   "execution_count": 6,
   "metadata": {},
   "outputs": [
    {
     "data": {
      "text/html": [
       "<div>\n",
       "<style scoped>\n",
       "    .dataframe tbody tr th:only-of-type {\n",
       "        vertical-align: middle;\n",
       "    }\n",
       "\n",
       "    .dataframe tbody tr th {\n",
       "        vertical-align: top;\n",
       "    }\n",
       "\n",
       "    .dataframe thead th {\n",
       "        text-align: right;\n",
       "    }\n",
       "</style>\n",
       "<table border=\"1\" class=\"dataframe\">\n",
       "  <thead>\n",
       "    <tr style=\"text-align: right;\">\n",
       "      <th></th>\n",
       "      <th>endTime</th>\n",
       "      <th>artistName</th>\n",
       "      <th>trackName</th>\n",
       "      <th>msPlayed</th>\n",
       "    </tr>\n",
       "  </thead>\n",
       "  <tbody>\n",
       "    <tr>\n",
       "      <th>8836</th>\n",
       "      <td>2023-05-05 14:21</td>\n",
       "      <td>A$AP Ferg</td>\n",
       "      <td>Dreams, Fairytales, Fantasies (feat. Brent Fai...</td>\n",
       "      <td>709</td>\n",
       "    </tr>\n",
       "    <tr>\n",
       "      <th>8837</th>\n",
       "      <td>2023-05-05 14:21</td>\n",
       "      <td>A$AP Ferg</td>\n",
       "      <td>Floor Seats</td>\n",
       "      <td>0</td>\n",
       "    </tr>\n",
       "    <tr>\n",
       "      <th>8838</th>\n",
       "      <td>2023-05-05 14:21</td>\n",
       "      <td>Kendrick Lamar</td>\n",
       "      <td>u</td>\n",
       "      <td>833</td>\n",
       "    </tr>\n",
       "    <tr>\n",
       "      <th>8839</th>\n",
       "      <td>2023-05-05 14:26</td>\n",
       "      <td>Baby Keem</td>\n",
       "      <td>trademark usa</td>\n",
       "      <td>270670</td>\n",
       "    </tr>\n",
       "    <tr>\n",
       "      <th>8840</th>\n",
       "      <td>2023-05-05 14:27</td>\n",
       "      <td>A$AP Ferg</td>\n",
       "      <td>Floor Seats</td>\n",
       "      <td>70224</td>\n",
       "    </tr>\n",
       "  </tbody>\n",
       "</table>\n",
       "</div>"
      ],
      "text/plain": [
       "               endTime      artistName   \n",
       "8836  2023-05-05 14:21       A$AP Ferg  \\\n",
       "8837  2023-05-05 14:21       A$AP Ferg   \n",
       "8838  2023-05-05 14:21  Kendrick Lamar   \n",
       "8839  2023-05-05 14:26       Baby Keem   \n",
       "8840  2023-05-05 14:27       A$AP Ferg   \n",
       "\n",
       "                                              trackName  msPlayed  \n",
       "8836  Dreams, Fairytales, Fantasies (feat. Brent Fai...       709  \n",
       "8837                                        Floor Seats         0  \n",
       "8838                                                  u       833  \n",
       "8839                                      trademark usa    270670  \n",
       "8840                                        Floor Seats     70224  "
      ]
     },
     "execution_count": 6,
     "metadata": {},
     "output_type": "execute_result"
    }
   ],
   "source": [
    "df = pd.read_json(\"MyData/StreamingHistory0.json\")\n",
    "df.tail()"
   ]
  },
  {
   "cell_type": "code",
   "execution_count": null,
   "metadata": {},
   "outputs": [],
   "source": []
  }
 ],
 "metadata": {
  "kernelspec": {
   "display_name": "Python 3 (ipykernel)",
   "language": "python",
   "name": "python3"
  }
 },
 "nbformat": 4,
 "nbformat_minor": 2
}
