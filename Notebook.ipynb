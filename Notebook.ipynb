{
 "cells": [
  {
   "cell_type": "code",
   "execution_count": 1,
   "metadata": {},
   "outputs": [],
   "source": [
    "import numpy as np\n",
    "import pandas as pd\n",
    "import matplotlib\n",
    "import matplotlib.pyplot as plt\n",
    "import seaborn as sns\n",
    "from wordcloud import WordCloud\n"
   ]
  },
  {
   "attachments": {},
   "cell_type": "markdown",
   "metadata": {},
   "source": [
    "## 1. Starter Analysis"
   ]
  },
  {
   "cell_type": "code",
   "execution_count": 4,
   "metadata": {},
   "outputs": [
    {
     "data": {
      "text/html": [
       "<div>\n",
       "<style scoped>\n",
       "    .dataframe tbody tr th:only-of-type {\n",
       "        vertical-align: middle;\n",
       "    }\n",
       "\n",
       "    .dataframe tbody tr th {\n",
       "        vertical-align: top;\n",
       "    }\n",
       "\n",
       "    .dataframe thead th {\n",
       "        text-align: right;\n",
       "    }\n",
       "</style>\n",
       "<table border=\"1\" class=\"dataframe\">\n",
       "  <thead>\n",
       "    <tr style=\"text-align: right;\">\n",
       "      <th></th>\n",
       "      <th>endTime</th>\n",
       "      <th>artistName</th>\n",
       "      <th>trackName</th>\n",
       "      <th>msPlayed</th>\n",
       "    </tr>\n",
       "  </thead>\n",
       "  <tbody>\n",
       "    <tr>\n",
       "      <th>8836</th>\n",
       "      <td>2023-05-05 14:21</td>\n",
       "      <td>A$AP Ferg</td>\n",
       "      <td>Dreams, Fairytales, Fantasies (feat. Brent Fai...</td>\n",
       "      <td>709</td>\n",
       "    </tr>\n",
       "    <tr>\n",
       "      <th>8837</th>\n",
       "      <td>2023-05-05 14:21</td>\n",
       "      <td>A$AP Ferg</td>\n",
       "      <td>Floor Seats</td>\n",
       "      <td>0</td>\n",
       "    </tr>\n",
       "    <tr>\n",
       "      <th>8838</th>\n",
       "      <td>2023-05-05 14:21</td>\n",
       "      <td>Kendrick Lamar</td>\n",
       "      <td>u</td>\n",
       "      <td>833</td>\n",
       "    </tr>\n",
       "    <tr>\n",
       "      <th>8839</th>\n",
       "      <td>2023-05-05 14:26</td>\n",
       "      <td>Baby Keem</td>\n",
       "      <td>trademark usa</td>\n",
       "      <td>270670</td>\n",
       "    </tr>\n",
       "    <tr>\n",
       "      <th>8840</th>\n",
       "      <td>2023-05-05 14:27</td>\n",
       "      <td>A$AP Ferg</td>\n",
       "      <td>Floor Seats</td>\n",
       "      <td>70224</td>\n",
       "    </tr>\n",
       "  </tbody>\n",
       "</table>\n",
       "</div>"
      ],
      "text/plain": [
       "               endTime      artistName   \n",
       "8836  2023-05-05 14:21       A$AP Ferg  \\\n",
       "8837  2023-05-05 14:21       A$AP Ferg   \n",
       "8838  2023-05-05 14:21  Kendrick Lamar   \n",
       "8839  2023-05-05 14:26       Baby Keem   \n",
       "8840  2023-05-05 14:27       A$AP Ferg   \n",
       "\n",
       "                                              trackName  msPlayed  \n",
       "8836  Dreams, Fairytales, Fantasies (feat. Brent Fai...       709  \n",
       "8837                                        Floor Seats         0  \n",
       "8838                                                  u       833  \n",
       "8839                                      trademark usa    270670  \n",
       "8840                                        Floor Seats     70224  "
      ]
     },
     "execution_count": 4,
     "metadata": {},
     "output_type": "execute_result"
    }
   ],
   "source": [
    "spotify_stream_df = pd.read_json(\"MyData/StreamingHistory0.json\")\n",
    "spotify_stream_df.tail()"
   ]
  },
  {
   "cell_type": "code",
   "execution_count": 5,
   "metadata": {},
   "outputs": [
    {
     "data": {
      "text/plain": [
       "(8841, 4)"
      ]
     },
     "execution_count": 5,
     "metadata": {},
     "output_type": "execute_result"
    }
   ],
   "source": [
    "spotify_stream_df.shape"
   ]
  },
  {
   "cell_type": "code",
   "execution_count": 6,
   "metadata": {},
   "outputs": [
    {
     "name": "stdout",
     "output_type": "stream",
     "text": [
      "<class 'pandas.core.frame.DataFrame'>\n",
      "RangeIndex: 8841 entries, 0 to 8840\n",
      "Data columns (total 4 columns):\n",
      " #   Column      Non-Null Count  Dtype \n",
      "---  ------      --------------  ----- \n",
      " 0   endTime     8841 non-null   object\n",
      " 1   artistName  8841 non-null   object\n",
      " 2   trackName   8841 non-null   object\n",
      " 3   msPlayed    8841 non-null   int64 \n",
      "dtypes: int64(1), object(3)\n",
      "memory usage: 276.4+ KB\n"
     ]
    }
   ],
   "source": [
    "spotify_stream_df.info() "
   ]
  },
  {
   "cell_type": "code",
   "execution_count": 7,
   "metadata": {},
   "outputs": [
    {
     "data": {
      "text/plain": [
       "endTime       4667\n",
       "artistName     695\n",
       "trackName     1816\n",
       "msPlayed      4715\n",
       "dtype: int64"
      ]
     },
     "execution_count": 7,
     "metadata": {},
     "output_type": "execute_result"
    }
   ],
   "source": [
    "spotify_stream_df.nunique() # To see the unique elemetns present in each column"
   ]
  },
  {
   "cell_type": "code",
   "execution_count": 8,
   "metadata": {},
   "outputs": [
    {
     "data": {
      "text/html": [
       "<div>\n",
       "<style scoped>\n",
       "    .dataframe tbody tr th:only-of-type {\n",
       "        vertical-align: middle;\n",
       "    }\n",
       "\n",
       "    .dataframe tbody tr th {\n",
       "        vertical-align: top;\n",
       "    }\n",
       "\n",
       "    .dataframe thead th {\n",
       "        text-align: right;\n",
       "    }\n",
       "</style>\n",
       "<table border=\"1\" class=\"dataframe\">\n",
       "  <thead>\n",
       "    <tr style=\"text-align: right;\">\n",
       "      <th></th>\n",
       "      <th>endTime</th>\n",
       "      <th>artistName</th>\n",
       "      <th>trackName</th>\n",
       "      <th>msPlayed</th>\n",
       "    </tr>\n",
       "  </thead>\n",
       "  <tbody>\n",
       "    <tr>\n",
       "      <th>5538</th>\n",
       "      <td>2023-03-16 02:47</td>\n",
       "      <td>2Pac</td>\n",
       "      <td>All Eyez On Me (ft. Big Syke)</td>\n",
       "      <td>954</td>\n",
       "    </tr>\n",
       "    <tr>\n",
       "      <th>1523</th>\n",
       "      <td>2023-01-01 05:29</td>\n",
       "      <td>Kendrick Lamar</td>\n",
       "      <td>Now Or Never - Bonus Track</td>\n",
       "      <td>4602</td>\n",
       "    </tr>\n",
       "    <tr>\n",
       "      <th>3858</th>\n",
       "      <td>2023-02-11 20:39</td>\n",
       "      <td>Genjutsu Beats</td>\n",
       "      <td>Sparta</td>\n",
       "      <td>0</td>\n",
       "    </tr>\n",
       "    <tr>\n",
       "      <th>4781</th>\n",
       "      <td>2023-02-24 15:14</td>\n",
       "      <td>King</td>\n",
       "      <td>Ektarfa</td>\n",
       "      <td>14089</td>\n",
       "    </tr>\n",
       "    <tr>\n",
       "      <th>1203</th>\n",
       "      <td>2022-12-26 10:58</td>\n",
       "      <td>Unknown Artist</td>\n",
       "      <td>Unknown Track</td>\n",
       "      <td>721</td>\n",
       "    </tr>\n",
       "    <tr>\n",
       "      <th>7119</th>\n",
       "      <td>2023-04-05 18:08</td>\n",
       "      <td>Rashid Ali</td>\n",
       "      <td>Kabhi Kabhi Aditi</td>\n",
       "      <td>218836</td>\n",
       "    </tr>\n",
       "    <tr>\n",
       "      <th>6496</th>\n",
       "      <td>2023-03-27 08:30</td>\n",
       "      <td>Sidharth Basrur</td>\n",
       "      <td>Mujhe De De Har Gham Tera</td>\n",
       "      <td>25727</td>\n",
       "    </tr>\n",
       "    <tr>\n",
       "      <th>5604</th>\n",
       "      <td>2023-03-17 14:31</td>\n",
       "      <td>Joji</td>\n",
       "      <td>Die For You</td>\n",
       "      <td>211666</td>\n",
       "    </tr>\n",
       "    <tr>\n",
       "      <th>1886</th>\n",
       "      <td>2023-01-09 11:27</td>\n",
       "      <td>Bas</td>\n",
       "      <td>[The Jackie] (with J. Cole &amp; Lil Tjay)</td>\n",
       "      <td>3303</td>\n",
       "    </tr>\n",
       "    <tr>\n",
       "      <th>6695</th>\n",
       "      <td>2023-03-30 04:44</td>\n",
       "      <td>Lil Durk</td>\n",
       "      <td>JUMP (feat. Memo600)</td>\n",
       "      <td>192718</td>\n",
       "    </tr>\n",
       "  </tbody>\n",
       "</table>\n",
       "</div>"
      ],
      "text/plain": [
       "               endTime       artistName   \n",
       "5538  2023-03-16 02:47             2Pac  \\\n",
       "1523  2023-01-01 05:29   Kendrick Lamar   \n",
       "3858  2023-02-11 20:39   Genjutsu Beats   \n",
       "4781  2023-02-24 15:14             King   \n",
       "1203  2022-12-26 10:58   Unknown Artist   \n",
       "7119  2023-04-05 18:08       Rashid Ali   \n",
       "6496  2023-03-27 08:30  Sidharth Basrur   \n",
       "5604  2023-03-17 14:31             Joji   \n",
       "1886  2023-01-09 11:27              Bas   \n",
       "6695  2023-03-30 04:44         Lil Durk   \n",
       "\n",
       "                                   trackName  msPlayed  \n",
       "5538           All Eyez On Me (ft. Big Syke)       954  \n",
       "1523              Now Or Never - Bonus Track      4602  \n",
       "3858                                  Sparta         0  \n",
       "4781                                 Ektarfa     14089  \n",
       "1203                           Unknown Track       721  \n",
       "7119                       Kabhi Kabhi Aditi    218836  \n",
       "6496               Mujhe De De Har Gham Tera     25727  \n",
       "5604                             Die For You    211666  \n",
       "1886  [The Jackie] (with J. Cole & Lil Tjay)      3303  \n",
       "6695                    JUMP (feat. Memo600)    192718  "
      ]
     },
     "execution_count": 8,
     "metadata": {},
     "output_type": "execute_result"
    }
   ],
   "source": [
    "spotify_stream_df.sample(10)"
   ]
  },
  {
   "cell_type": "code",
   "execution_count": 9,
   "metadata": {},
   "outputs": [
    {
     "data": {
      "text/plain": [
       "695"
      ]
     },
     "execution_count": 9,
     "metadata": {},
     "output_type": "execute_result"
    }
   ],
   "source": [
    "len(spotify_stream_df[\"artistName\"].unique()) # Length of unique artist"
   ]
  },
  {
   "cell_type": "markdown",
   "metadata": {},
   "source": [
    "there's 695 number of unique artist in my streaming history"
   ]
  },
  {
   "cell_type": "code",
   "execution_count": 10,
   "metadata": {},
   "outputs": [
    {
     "data": {
      "text/plain": [
       "1816"
      ]
     },
     "execution_count": 10,
     "metadata": {},
     "output_type": "execute_result"
    }
   ],
   "source": [
    "len(spotify_stream_df[\"trackName\"].unique()) # Length of unique tracks"
   ]
  },
  {
   "attachments": {},
   "cell_type": "markdown",
   "metadata": {},
   "source": [
    "there's 1816 number of unique songs in my streaming history"
   ]
  },
  {
   "attachments": {},
   "cell_type": "markdown",
   "metadata": {},
   "source": [
    "## 2. Cleaning and Formatting Data"
   ]
  },
  {
   "attachments": {},
   "cell_type": "markdown",
   "metadata": {},
   "source": [
    "pd.to_datetime method from Pandas module to convert a object column into proper date time column."
   ]
  },
  {
   "attachments": {},
   "cell_type": "markdown",
   "metadata": {},
   "source": [
    "using the to_datetime module to obatin the proper date time format and then we added that into a new column called Play-Time."
   ]
  },
  {
   "cell_type": "code",
   "execution_count": 11,
   "metadata": {},
   "outputs": [],
   "source": [
    "spotify_stream_df[\"Play-Time\"]= pd.to_datetime(spotify_stream_df[\"endTime\"])"
   ]
  },
  {
   "attachments": {},
   "cell_type": "markdown",
   "metadata": {},
   "source": [
    "- year has information about the year when we played that song\n",
    "- month has information about the month when we played that song\n",
    "- weekday has information about the weekday when we played that song\n",
    "- time has information about the time when we played that song\n",
    "- hours has information about the hour when we played that song\n",
    "- day-name has information about the day with the name when we played that song. apply method for pandas dataframe with lambda function.\n",
    "- new column count to keep track of the count of the songs."
   ]
  },
  {
   "cell_type": "code",
   "execution_count": 12,
   "metadata": {},
   "outputs": [],
   "source": [
    "spotify_stream_df['year'] = pd.DatetimeIndex(spotify_stream_df[\"Play-Time\"]).year\n",
    "spotify_stream_df['month'] = pd.DatetimeIndex(spotify_stream_df[\"Play-Time\"]).month\n",
    "spotify_stream_df['day'] = pd.DatetimeIndex(spotify_stream_df[\"Play-Time\"]).day\n",
    "spotify_stream_df['weekday'] = pd.DatetimeIndex(spotify_stream_df[\"Play-Time\"]).weekday\n",
    "spotify_stream_df['time'] = pd.DatetimeIndex(spotify_stream_df[\"Play-Time\"]).time\n",
    "spotify_stream_df['hours'] = pd.DatetimeIndex(spotify_stream_df[\"Play-Time\"]).hour\n",
    "spotify_stream_df['day-name'] = spotify_stream_df[\"Play-Time\"].apply(lambda x: x.day_name())\n",
    "spotify_stream_df['Count'] = 1 "
   ]
  },
  {
   "cell_type": "code",
   "execution_count": 13,
   "metadata": {},
   "outputs": [],
   "source": [
    "spotify_stream_df[\"Time-Played (hh-mm-ss)\"] = pd.to_timedelta(spotify_stream_df[\"msPlayed\"], unit='ms')"
   ]
  },
  {
   "attachments": {},
   "cell_type": "markdown",
   "metadata": {},
   "source": [
    "hours and minutes calculation"
   ]
  },
  {
   "cell_type": "code",
   "execution_count": 14,
   "metadata": {},
   "outputs": [],
   "source": [
    "def hours(td):\n",
    "    return td.seconds/3600\n",
    "\n",
    "def minutes(td):\n",
    "    return (td.seconds/60)%60\n",
    "\n",
    "spotify_stream_df[\"Listening Time(Hours)\"] = spotify_stream_df[\"Time-Played (hh-mm-ss)\"].apply(hours).round(3)\n",
    "spotify_stream_df[\"Listening Time(Minutes)\"] = spotify_stream_df[\"Time-Played (hh-mm-ss)\"].apply(minutes).round(3)\n"
   ]
  },
  {
   "cell_type": "code",
   "execution_count": 15,
   "metadata": {},
   "outputs": [
    {
     "data": {
      "text/html": [
       "<div>\n",
       "<style scoped>\n",
       "    .dataframe tbody tr th:only-of-type {\n",
       "        vertical-align: middle;\n",
       "    }\n",
       "\n",
       "    .dataframe tbody tr th {\n",
       "        vertical-align: top;\n",
       "    }\n",
       "\n",
       "    .dataframe thead th {\n",
       "        text-align: right;\n",
       "    }\n",
       "</style>\n",
       "<table border=\"1\" class=\"dataframe\">\n",
       "  <thead>\n",
       "    <tr style=\"text-align: right;\">\n",
       "      <th></th>\n",
       "      <th>endTime</th>\n",
       "      <th>artistName</th>\n",
       "      <th>trackName</th>\n",
       "      <th>msPlayed</th>\n",
       "      <th>Play-Time</th>\n",
       "      <th>year</th>\n",
       "      <th>month</th>\n",
       "      <th>day</th>\n",
       "      <th>weekday</th>\n",
       "      <th>time</th>\n",
       "      <th>hours</th>\n",
       "      <th>day-name</th>\n",
       "      <th>Count</th>\n",
       "      <th>Time-Played (hh-mm-ss)</th>\n",
       "      <th>Listening Time(Hours)</th>\n",
       "      <th>Listening Time(Minutes)</th>\n",
       "    </tr>\n",
       "  </thead>\n",
       "  <tbody>\n",
       "    <tr>\n",
       "      <th>5631</th>\n",
       "      <td>2023-03-18 09:12</td>\n",
       "      <td>42 Dugg</td>\n",
       "      <td>Bestfriends</td>\n",
       "      <td>132793</td>\n",
       "      <td>2023-03-18 09:12:00</td>\n",
       "      <td>2023</td>\n",
       "      <td>3</td>\n",
       "      <td>18</td>\n",
       "      <td>5</td>\n",
       "      <td>09:12:00</td>\n",
       "      <td>9</td>\n",
       "      <td>Saturday</td>\n",
       "      <td>1</td>\n",
       "      <td>0 days 00:02:12.793000</td>\n",
       "      <td>0.037</td>\n",
       "      <td>2.200</td>\n",
       "    </tr>\n",
       "    <tr>\n",
       "      <th>73</th>\n",
       "      <td>2022-12-02 21:19</td>\n",
       "      <td>Kodak Black</td>\n",
       "      <td>Super Gremlin</td>\n",
       "      <td>142890</td>\n",
       "      <td>2022-12-02 21:19:00</td>\n",
       "      <td>2022</td>\n",
       "      <td>12</td>\n",
       "      <td>2</td>\n",
       "      <td>4</td>\n",
       "      <td>21:19:00</td>\n",
       "      <td>21</td>\n",
       "      <td>Friday</td>\n",
       "      <td>1</td>\n",
       "      <td>0 days 00:02:22.890000</td>\n",
       "      <td>0.039</td>\n",
       "      <td>2.367</td>\n",
       "    </tr>\n",
       "    <tr>\n",
       "      <th>525</th>\n",
       "      <td>2022-12-13 17:33</td>\n",
       "      <td>Metro Boomin</td>\n",
       "      <td>Niagara Falls (Foot or 2) [with Travis Scott &amp;...</td>\n",
       "      <td>13502</td>\n",
       "      <td>2022-12-13 17:33:00</td>\n",
       "      <td>2022</td>\n",
       "      <td>12</td>\n",
       "      <td>13</td>\n",
       "      <td>1</td>\n",
       "      <td>17:33:00</td>\n",
       "      <td>17</td>\n",
       "      <td>Tuesday</td>\n",
       "      <td>1</td>\n",
       "      <td>0 days 00:00:13.502000</td>\n",
       "      <td>0.004</td>\n",
       "      <td>0.217</td>\n",
       "    </tr>\n",
       "    <tr>\n",
       "      <th>7883</th>\n",
       "      <td>2023-04-20 07:57</td>\n",
       "      <td>Tory Lanez</td>\n",
       "      <td>Broke In A Minute</td>\n",
       "      <td>1029</td>\n",
       "      <td>2023-04-20 07:57:00</td>\n",
       "      <td>2023</td>\n",
       "      <td>4</td>\n",
       "      <td>20</td>\n",
       "      <td>3</td>\n",
       "      <td>07:57:00</td>\n",
       "      <td>7</td>\n",
       "      <td>Thursday</td>\n",
       "      <td>1</td>\n",
       "      <td>0 days 00:00:01.029000</td>\n",
       "      <td>0.000</td>\n",
       "      <td>0.017</td>\n",
       "    </tr>\n",
       "    <tr>\n",
       "      <th>8363</th>\n",
       "      <td>2023-04-27 21:13</td>\n",
       "      <td>Drake</td>\n",
       "      <td>Wants and Needs (feat. Lil Baby)</td>\n",
       "      <td>192698</td>\n",
       "      <td>2023-04-27 21:13:00</td>\n",
       "      <td>2023</td>\n",
       "      <td>4</td>\n",
       "      <td>27</td>\n",
       "      <td>3</td>\n",
       "      <td>21:13:00</td>\n",
       "      <td>21</td>\n",
       "      <td>Thursday</td>\n",
       "      <td>1</td>\n",
       "      <td>0 days 00:03:12.698000</td>\n",
       "      <td>0.053</td>\n",
       "      <td>3.200</td>\n",
       "    </tr>\n",
       "    <tr>\n",
       "      <th>3813</th>\n",
       "      <td>2023-02-11 17:20</td>\n",
       "      <td>Shankar-Ehsaan-Loy</td>\n",
       "      <td>Zinda</td>\n",
       "      <td>211120</td>\n",
       "      <td>2023-02-11 17:20:00</td>\n",
       "      <td>2023</td>\n",
       "      <td>2</td>\n",
       "      <td>11</td>\n",
       "      <td>5</td>\n",
       "      <td>17:20:00</td>\n",
       "      <td>17</td>\n",
       "      <td>Saturday</td>\n",
       "      <td>1</td>\n",
       "      <td>0 days 00:03:31.120000</td>\n",
       "      <td>0.059</td>\n",
       "      <td>3.517</td>\n",
       "    </tr>\n",
       "    <tr>\n",
       "      <th>7717</th>\n",
       "      <td>2023-04-16 07:27</td>\n",
       "      <td>J. Cole</td>\n",
       "      <td>m y . l i f e (with 21 Savage &amp; Morray)</td>\n",
       "      <td>6394</td>\n",
       "      <td>2023-04-16 07:27:00</td>\n",
       "      <td>2023</td>\n",
       "      <td>4</td>\n",
       "      <td>16</td>\n",
       "      <td>6</td>\n",
       "      <td>07:27:00</td>\n",
       "      <td>7</td>\n",
       "      <td>Sunday</td>\n",
       "      <td>1</td>\n",
       "      <td>0 days 00:00:06.394000</td>\n",
       "      <td>0.002</td>\n",
       "      <td>0.100</td>\n",
       "    </tr>\n",
       "    <tr>\n",
       "      <th>6584</th>\n",
       "      <td>2023-03-28 05:34</td>\n",
       "      <td>Kendrick Lamar</td>\n",
       "      <td>These Walls</td>\n",
       "      <td>91183</td>\n",
       "      <td>2023-03-28 05:34:00</td>\n",
       "      <td>2023</td>\n",
       "      <td>3</td>\n",
       "      <td>28</td>\n",
       "      <td>1</td>\n",
       "      <td>05:34:00</td>\n",
       "      <td>5</td>\n",
       "      <td>Tuesday</td>\n",
       "      <td>1</td>\n",
       "      <td>0 days 00:01:31.183000</td>\n",
       "      <td>0.025</td>\n",
       "      <td>1.517</td>\n",
       "    </tr>\n",
       "    <tr>\n",
       "      <th>2221</th>\n",
       "      <td>2023-01-14 03:43</td>\n",
       "      <td>Kendrick Lamar</td>\n",
       "      <td>YAH.</td>\n",
       "      <td>160293</td>\n",
       "      <td>2023-01-14 03:43:00</td>\n",
       "      <td>2023</td>\n",
       "      <td>1</td>\n",
       "      <td>14</td>\n",
       "      <td>5</td>\n",
       "      <td>03:43:00</td>\n",
       "      <td>3</td>\n",
       "      <td>Saturday</td>\n",
       "      <td>1</td>\n",
       "      <td>0 days 00:02:40.293000</td>\n",
       "      <td>0.044</td>\n",
       "      <td>2.667</td>\n",
       "    </tr>\n",
       "    <tr>\n",
       "      <th>748</th>\n",
       "      <td>2022-12-22 11:51</td>\n",
       "      <td>Drake</td>\n",
       "      <td>Rich Flex</td>\n",
       "      <td>7756</td>\n",
       "      <td>2022-12-22 11:51:00</td>\n",
       "      <td>2022</td>\n",
       "      <td>12</td>\n",
       "      <td>22</td>\n",
       "      <td>3</td>\n",
       "      <td>11:51:00</td>\n",
       "      <td>11</td>\n",
       "      <td>Thursday</td>\n",
       "      <td>1</td>\n",
       "      <td>0 days 00:00:07.756000</td>\n",
       "      <td>0.002</td>\n",
       "      <td>0.117</td>\n",
       "    </tr>\n",
       "  </tbody>\n",
       "</table>\n",
       "</div>"
      ],
      "text/plain": [
       "               endTime          artistName   \n",
       "5631  2023-03-18 09:12             42 Dugg  \\\n",
       "73    2022-12-02 21:19         Kodak Black   \n",
       "525   2022-12-13 17:33        Metro Boomin   \n",
       "7883  2023-04-20 07:57          Tory Lanez   \n",
       "8363  2023-04-27 21:13               Drake   \n",
       "3813  2023-02-11 17:20  Shankar-Ehsaan-Loy   \n",
       "7717  2023-04-16 07:27             J. Cole   \n",
       "6584  2023-03-28 05:34      Kendrick Lamar   \n",
       "2221  2023-01-14 03:43      Kendrick Lamar   \n",
       "748   2022-12-22 11:51               Drake   \n",
       "\n",
       "                                              trackName  msPlayed   \n",
       "5631                                        Bestfriends    132793  \\\n",
       "73                                        Super Gremlin    142890   \n",
       "525   Niagara Falls (Foot or 2) [with Travis Scott &...     13502   \n",
       "7883                                  Broke In A Minute      1029   \n",
       "8363                   Wants and Needs (feat. Lil Baby)    192698   \n",
       "3813                                              Zinda    211120   \n",
       "7717            m y . l i f e (with 21 Savage & Morray)      6394   \n",
       "6584                                        These Walls     91183   \n",
       "2221                                               YAH.    160293   \n",
       "748                                           Rich Flex      7756   \n",
       "\n",
       "               Play-Time  year  month  day  weekday      time  hours   \n",
       "5631 2023-03-18 09:12:00  2023      3   18        5  09:12:00      9  \\\n",
       "73   2022-12-02 21:19:00  2022     12    2        4  21:19:00     21   \n",
       "525  2022-12-13 17:33:00  2022     12   13        1  17:33:00     17   \n",
       "7883 2023-04-20 07:57:00  2023      4   20        3  07:57:00      7   \n",
       "8363 2023-04-27 21:13:00  2023      4   27        3  21:13:00     21   \n",
       "3813 2023-02-11 17:20:00  2023      2   11        5  17:20:00     17   \n",
       "7717 2023-04-16 07:27:00  2023      4   16        6  07:27:00      7   \n",
       "6584 2023-03-28 05:34:00  2023      3   28        1  05:34:00      5   \n",
       "2221 2023-01-14 03:43:00  2023      1   14        5  03:43:00      3   \n",
       "748  2022-12-22 11:51:00  2022     12   22        3  11:51:00     11   \n",
       "\n",
       "      day-name  Count Time-Played (hh-mm-ss)  Listening Time(Hours)   \n",
       "5631  Saturday      1 0 days 00:02:12.793000                  0.037  \\\n",
       "73      Friday      1 0 days 00:02:22.890000                  0.039   \n",
       "525    Tuesday      1 0 days 00:00:13.502000                  0.004   \n",
       "7883  Thursday      1 0 days 00:00:01.029000                  0.000   \n",
       "8363  Thursday      1 0 days 00:03:12.698000                  0.053   \n",
       "3813  Saturday      1 0 days 00:03:31.120000                  0.059   \n",
       "7717    Sunday      1 0 days 00:00:06.394000                  0.002   \n",
       "6584   Tuesday      1 0 days 00:01:31.183000                  0.025   \n",
       "2221  Saturday      1 0 days 00:02:40.293000                  0.044   \n",
       "748   Thursday      1 0 days 00:00:07.756000                  0.002   \n",
       "\n",
       "      Listening Time(Minutes)  \n",
       "5631                    2.200  \n",
       "73                      2.367  \n",
       "525                     0.217  \n",
       "7883                    0.017  \n",
       "8363                    3.200  \n",
       "3813                    3.517  \n",
       "7717                    0.100  \n",
       "6584                    1.517  \n",
       "2221                    2.667  \n",
       "748                     0.117  "
      ]
     },
     "execution_count": 15,
     "metadata": {},
     "output_type": "execute_result"
    }
   ],
   "source": [
    "spotify_stream_df.sample(10)"
   ]
  },
  {
   "attachments": {},
   "cell_type": "markdown",
   "metadata": {},
   "source": [
    "dropping\n",
    "1. endTime as we have Play-Time column\n",
    "2. msPlayed as we got the Time-Played (hh-mm-ss)\n",
    "3. Time-Played (hh-mm-ss) as we got the approx time in minutes and hours in Listening Time(Hours) and Listening Time(Minutes).\n"
   ]
  },
  {
   "cell_type": "code",
   "execution_count": 16,
   "metadata": {},
   "outputs": [],
   "source": [
    "spotify_stream_df.drop(columns=[\"endTime\",\"Time-Played (hh-mm-ss)\",\"msPlayed\"], inplace=True)"
   ]
  },
  {
   "cell_type": "code",
   "execution_count": 17,
   "metadata": {},
   "outputs": [
    {
     "data": {
      "text/html": [
       "<div>\n",
       "<style scoped>\n",
       "    .dataframe tbody tr th:only-of-type {\n",
       "        vertical-align: middle;\n",
       "    }\n",
       "\n",
       "    .dataframe tbody tr th {\n",
       "        vertical-align: top;\n",
       "    }\n",
       "\n",
       "    .dataframe thead th {\n",
       "        text-align: right;\n",
       "    }\n",
       "</style>\n",
       "<table border=\"1\" class=\"dataframe\">\n",
       "  <thead>\n",
       "    <tr style=\"text-align: right;\">\n",
       "      <th></th>\n",
       "      <th>Play-Time</th>\n",
       "      <th>year</th>\n",
       "      <th>month</th>\n",
       "      <th>day</th>\n",
       "      <th>weekday</th>\n",
       "      <th>hours</th>\n",
       "      <th>Count</th>\n",
       "      <th>Listening Time(Hours)</th>\n",
       "      <th>Listening Time(Minutes)</th>\n",
       "    </tr>\n",
       "  </thead>\n",
       "  <tbody>\n",
       "    <tr>\n",
       "      <th>count</th>\n",
       "      <td>8841</td>\n",
       "      <td>8841.000000</td>\n",
       "      <td>8841.000000</td>\n",
       "      <td>8841.000000</td>\n",
       "      <td>8841.000000</td>\n",
       "      <td>8841.000000</td>\n",
       "      <td>8841.0</td>\n",
       "      <td>8841.000000</td>\n",
       "      <td>8841.000000</td>\n",
       "    </tr>\n",
       "    <tr>\n",
       "      <th>mean</th>\n",
       "      <td>2023-02-20 10:03:08.232100352</td>\n",
       "      <td>2022.829205</td>\n",
       "      <td>4.239792</td>\n",
       "      <td>15.386834</td>\n",
       "      <td>2.965502</td>\n",
       "      <td>11.719602</td>\n",
       "      <td>1.0</td>\n",
       "      <td>0.023426</td>\n",
       "      <td>1.399756</td>\n",
       "    </tr>\n",
       "    <tr>\n",
       "      <th>min</th>\n",
       "      <td>2022-07-14 16:51:00</td>\n",
       "      <td>2022.000000</td>\n",
       "      <td>1.000000</td>\n",
       "      <td>1.000000</td>\n",
       "      <td>0.000000</td>\n",
       "      <td>0.000000</td>\n",
       "      <td>1.0</td>\n",
       "      <td>0.000000</td>\n",
       "      <td>0.000000</td>\n",
       "    </tr>\n",
       "    <tr>\n",
       "      <th>25%</th>\n",
       "      <td>2023-01-13 16:11:00</td>\n",
       "      <td>2023.000000</td>\n",
       "      <td>2.000000</td>\n",
       "      <td>7.000000</td>\n",
       "      <td>1.000000</td>\n",
       "      <td>7.000000</td>\n",
       "      <td>1.0</td>\n",
       "      <td>0.000000</td>\n",
       "      <td>0.017000</td>\n",
       "    </tr>\n",
       "    <tr>\n",
       "      <th>50%</th>\n",
       "      <td>2023-02-20 07:38:00</td>\n",
       "      <td>2023.000000</td>\n",
       "      <td>3.000000</td>\n",
       "      <td>16.000000</td>\n",
       "      <td>3.000000</td>\n",
       "      <td>12.000000</td>\n",
       "      <td>1.0</td>\n",
       "      <td>0.003000</td>\n",
       "      <td>0.183000</td>\n",
       "    </tr>\n",
       "    <tr>\n",
       "      <th>75%</th>\n",
       "      <td>2023-03-29 17:26:00</td>\n",
       "      <td>2023.000000</td>\n",
       "      <td>4.000000</td>\n",
       "      <td>23.000000</td>\n",
       "      <td>5.000000</td>\n",
       "      <td>17.000000</td>\n",
       "      <td>1.0</td>\n",
       "      <td>0.050000</td>\n",
       "      <td>3.017000</td>\n",
       "    </tr>\n",
       "    <tr>\n",
       "      <th>max</th>\n",
       "      <td>2023-05-05 14:27:00</td>\n",
       "      <td>2023.000000</td>\n",
       "      <td>12.000000</td>\n",
       "      <td>31.000000</td>\n",
       "      <td>6.000000</td>\n",
       "      <td>23.000000</td>\n",
       "      <td>1.0</td>\n",
       "      <td>1.208000</td>\n",
       "      <td>12.500000</td>\n",
       "    </tr>\n",
       "    <tr>\n",
       "      <th>std</th>\n",
       "      <td>NaN</td>\n",
       "      <td>0.376351</td>\n",
       "      <td>3.676968</td>\n",
       "      <td>8.744404</td>\n",
       "      <td>1.928251</td>\n",
       "      <td>6.092721</td>\n",
       "      <td>0.0</td>\n",
       "      <td>0.031115</td>\n",
       "      <td>1.709932</td>\n",
       "    </tr>\n",
       "  </tbody>\n",
       "</table>\n",
       "</div>"
      ],
      "text/plain": [
       "                           Play-Time         year        month          day   \n",
       "count                           8841  8841.000000  8841.000000  8841.000000  \\\n",
       "mean   2023-02-20 10:03:08.232100352  2022.829205     4.239792    15.386834   \n",
       "min              2022-07-14 16:51:00  2022.000000     1.000000     1.000000   \n",
       "25%              2023-01-13 16:11:00  2023.000000     2.000000     7.000000   \n",
       "50%              2023-02-20 07:38:00  2023.000000     3.000000    16.000000   \n",
       "75%              2023-03-29 17:26:00  2023.000000     4.000000    23.000000   \n",
       "max              2023-05-05 14:27:00  2023.000000    12.000000    31.000000   \n",
       "std                              NaN     0.376351     3.676968     8.744404   \n",
       "\n",
       "           weekday        hours   Count  Listening Time(Hours)   \n",
       "count  8841.000000  8841.000000  8841.0            8841.000000  \\\n",
       "mean      2.965502    11.719602     1.0               0.023426   \n",
       "min       0.000000     0.000000     1.0               0.000000   \n",
       "25%       1.000000     7.000000     1.0               0.000000   \n",
       "50%       3.000000    12.000000     1.0               0.003000   \n",
       "75%       5.000000    17.000000     1.0               0.050000   \n",
       "max       6.000000    23.000000     1.0               1.208000   \n",
       "std       1.928251     6.092721     0.0               0.031115   \n",
       "\n",
       "       Listening Time(Minutes)  \n",
       "count              8841.000000  \n",
       "mean                  1.399756  \n",
       "min                   0.000000  \n",
       "25%                   0.017000  \n",
       "50%                   0.183000  \n",
       "75%                   3.017000  \n",
       "max                  12.500000  \n",
       "std                   1.709932  "
      ]
     },
     "execution_count": 17,
     "metadata": {},
     "output_type": "execute_result"
    }
   ],
   "source": [
    "spotify_stream_df.describe()"
   ]
  },
  {
   "attachments": {},
   "cell_type": "markdown",
   "metadata": {},
   "source": [
    "## 3. Exploratory Data Analysis and Visualization"
   ]
  },
  {
   "cell_type": "code",
   "execution_count": 18,
   "metadata": {},
   "outputs": [
    {
     "name": "stderr",
     "output_type": "stream",
     "text": [
      "/tmp/ipykernel_6975/1738326915.py:2: MatplotlibDeprecationWarning: The seaborn styles shipped by Matplotlib are deprecated since 3.6, as they no longer correspond to the styles shipped by seaborn. However, they will remain available as 'seaborn-v0_8-<style>'. Alternatively, directly use the seaborn API instead.\n",
      "  plt.style.use('seaborn-darkgrid')\n"
     ]
    }
   ],
   "source": [
    "sns.set_style('darkgrid')\n",
    "plt.style.use('seaborn-darkgrid')\n",
    "\n",
    "matplotlib.rcParams['font.size'] = 14\n",
    "matplotlib.rcParams['figure.figsize'] = (9, 5)\n",
    "matplotlib.rcParams['figure.facecolor'] = '#00000000'"
   ]
  },
  {
   "attachments": {},
   "cell_type": "markdown",
   "metadata": {},
   "source": [
    "### 3.1 unique artist exploration"
   ]
  },
  {
   "cell_type": "code",
   "execution_count": 19,
   "metadata": {},
   "outputs": [
    {
     "data": {
      "text/plain": [
       "7.8611016853297135"
      ]
     },
     "execution_count": 19,
     "metadata": {},
     "output_type": "execute_result"
    }
   ],
   "source": [
    "unique_artists = spotify_stream_df[\"artistName\"].nunique() \n",
    "total_artists = spotify_stream_df[\"artistName\"].count() \n",
    "unique_artist_percentage = unique_artists/total_artists*100 \n",
    "unique_artist_percentage"
   ]
  },
  {
   "attachments": {},
   "cell_type": "markdown",
   "metadata": {},
   "source": [
    "### 3.2 top 10 unique artist"
   ]
  },
  {
   "cell_type": "code",
   "execution_count": 21,
   "metadata": {},
   "outputs": [
    {
     "data": {
      "text/html": [
       "<div>\n",
       "<style scoped>\n",
       "    .dataframe tbody tr th:only-of-type {\n",
       "        vertical-align: middle;\n",
       "    }\n",
       "\n",
       "    .dataframe tbody tr th {\n",
       "        vertical-align: top;\n",
       "    }\n",
       "\n",
       "    .dataframe thead th {\n",
       "        text-align: right;\n",
       "    }\n",
       "</style>\n",
       "<table border=\"1\" class=\"dataframe\">\n",
       "  <thead>\n",
       "    <tr style=\"text-align: right;\">\n",
       "      <th></th>\n",
       "      <th>Listening Time(Hours)</th>\n",
       "      <th>Listening Time(Minutes)</th>\n",
       "      <th>Count</th>\n",
       "    </tr>\n",
       "    <tr>\n",
       "      <th>artistName</th>\n",
       "      <th></th>\n",
       "      <th></th>\n",
       "      <th></th>\n",
       "    </tr>\n",
       "  </thead>\n",
       "  <tbody>\n",
       "    <tr>\n",
       "      <th>Metro Boomin</th>\n",
       "      <td>27.558</td>\n",
       "      <td>1654.526</td>\n",
       "      <td>893</td>\n",
       "    </tr>\n",
       "    <tr>\n",
       "      <th>Kendrick Lamar</th>\n",
       "      <td>24.485</td>\n",
       "      <td>1471.179</td>\n",
       "      <td>1098</td>\n",
       "    </tr>\n",
       "    <tr>\n",
       "      <th>21 Savage</th>\n",
       "      <td>16.434</td>\n",
       "      <td>987.067</td>\n",
       "      <td>611</td>\n",
       "    </tr>\n",
       "    <tr>\n",
       "      <th>Drake</th>\n",
       "      <td>9.393</td>\n",
       "      <td>565.509</td>\n",
       "      <td>400</td>\n",
       "    </tr>\n",
       "    <tr>\n",
       "      <th>Kanye West</th>\n",
       "      <td>8.778</td>\n",
       "      <td>526.805</td>\n",
       "      <td>345</td>\n",
       "    </tr>\n",
       "    <tr>\n",
       "      <th>Baby Keem</th>\n",
       "      <td>5.862</td>\n",
       "      <td>351.867</td>\n",
       "      <td>259</td>\n",
       "    </tr>\n",
       "    <tr>\n",
       "      <th>Joji</th>\n",
       "      <td>5.480</td>\n",
       "      <td>329.040</td>\n",
       "      <td>270</td>\n",
       "    </tr>\n",
       "    <tr>\n",
       "      <th>Travis Scott</th>\n",
       "      <td>5.002</td>\n",
       "      <td>299.826</td>\n",
       "      <td>230</td>\n",
       "    </tr>\n",
       "    <tr>\n",
       "      <th>The Local Train</th>\n",
       "      <td>3.543</td>\n",
       "      <td>211.851</td>\n",
       "      <td>132</td>\n",
       "    </tr>\n",
       "    <tr>\n",
       "      <th>Aditya Rikhari</th>\n",
       "      <td>3.013</td>\n",
       "      <td>181.621</td>\n",
       "      <td>84</td>\n",
       "    </tr>\n",
       "  </tbody>\n",
       "</table>\n",
       "</div>"
      ],
      "text/plain": [
       "                 Listening Time(Hours)  Listening Time(Minutes)  Count\n",
       "artistName                                                            \n",
       "Metro Boomin                    27.558                 1654.526    893\n",
       "Kendrick Lamar                  24.485                 1471.179   1098\n",
       "21 Savage                       16.434                  987.067    611\n",
       "Drake                            9.393                  565.509    400\n",
       "Kanye West                       8.778                  526.805    345\n",
       "Baby Keem                        5.862                  351.867    259\n",
       "Joji                             5.480                  329.040    270\n",
       "Travis Scott                     5.002                  299.826    230\n",
       "The Local Train                  3.543                  211.851    132\n",
       "Aditya Rikhari                   3.013                  181.621     84"
      ]
     },
     "execution_count": 21,
     "metadata": {},
     "output_type": "execute_result"
    }
   ],
   "source": [
    "top_10_artist_df = spotify_stream_df.groupby([\"artistName\"])[[\"Listening Time(Hours)\",\"Listening Time(Minutes)\",\"Count\"]].sum().sort_values(by=\"Listening Time(Minutes)\",ascending=False)\n",
    "top_10_artist_df.head(10)"
   ]
  },
  {
   "cell_type": "code",
   "execution_count": 25,
   "metadata": {},
   "outputs": [
    {
     "data": {
      "text/plain": [
       "([0, 1, 2, 3, 4, 5, 6, 7, 8, 9],\n",
       " [Text(0, 0, 'Metro Boomin'),\n",
       "  Text(1, 0, 'Kendrick Lamar'),\n",
       "  Text(2, 0, '21 Savage'),\n",
       "  Text(3, 0, 'Drake'),\n",
       "  Text(4, 0, 'Kanye West'),\n",
       "  Text(5, 0, 'Baby Keem'),\n",
       "  Text(6, 0, 'Joji'),\n",
       "  Text(7, 0, 'Travis Scott'),\n",
       "  Text(8, 0, 'The Local Train'),\n",
       "  Text(9, 0, 'Aditya Rikhari')])"
      ]
     },
     "execution_count": 25,
     "metadata": {},
     "output_type": "execute_result"
    },
    {
     "data": {
      "image/png": "[encoded data removed]",
      "text/plain": [
       "<Figure size 1200x800 with 1 Axes>"
      ]
     },
     "metadata": {
      "needs_background": "light"
     },
     "output_type": "display_data"
    }
   ],
   "source": [
    "fig,ax = plt.subplots(figsize=(12,8))\n",
    "ax.bar(top_10_artist_df.head(10).index,top_10_artist_df[\"Listening Time(Hours)\"].head(10),color='green')\n",
    "ax.set(title=\"My Top 10 Artist (based on Listening Time)\",xlabel=\"Artists\",ylabel=\"No. of Hours Songs Played\")\n",
    "plt.xticks(rotation=75)"
   ]
  },
  {
   "cell_type": "code",
   "execution_count": null,
   "metadata": {},
   "outputs": [],
   "source": []
  }
 ],
 "metadata": {
  "kernelspec": {
   "display_name": "Python 3 (ipykernel)",
   "language": "python",
   "name": "python3"
  },
  "language_info": {
   "codemirror_mode": {
    "name": "ipython",
    "version": 3
   },
   "file_extension": ".py",
   "mimetype": "text/x-python",
   "name": "python",
   "nbconvert_exporter": "python",
   "pygments_lexer": "ipython3",
   "version": "3.10.11"
  }
 },
 "nbformat": 4,
 "nbformat_minor": 2
}
