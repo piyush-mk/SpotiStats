{
 "cells": [
  {
   "cell_type": "code",
   "execution_count": 1,
   "metadata": {},
   "outputs": [],
   "source": [
    "import numpy as np\n",
    "import pandas as pd\n",
    "import matplotlib\n",
    "import matplotlib.pyplot as plt\n",
    "import seaborn as sns\n",
    "from wordcloud import WordCloud\n"
   ]
  },
  {
   "cell_type": "code",
   "execution_count": 4,
   "metadata": {},
   "outputs": [
    {
     "data": {
      "text/html": [
       "<div>\n",
       "<style scoped>\n",
       "    .dataframe tbody tr th:only-of-type {\n",
       "        vertical-align: middle;\n",
       "    }\n",
       "\n",
       "    .dataframe tbody tr th {\n",
       "        vertical-align: top;\n",
       "    }\n",
       "\n",
       "    .dataframe thead th {\n",
       "        text-align: right;\n",
       "    }\n",
       "</style>\n",
       "<table border=\"1\" class=\"dataframe\">\n",
       "  <thead>\n",
       "    <tr style=\"text-align: right;\">\n",
       "      <th></th>\n",
       "      <th>endTime</th>\n",
       "      <th>artistName</th>\n",
       "      <th>trackName</th>\n",
       "      <th>msPlayed</th>\n",
       "    </tr>\n",
       "  </thead>\n",
       "  <tbody>\n",
       "    <tr>\n",
       "      <th>8836</th>\n",
       "      <td>2023-05-05 14:21</td>\n",
       "      <td>A$AP Ferg</td>\n",
       "      <td>Dreams, Fairytales, Fantasies (feat. Brent Fai...</td>\n",
       "      <td>709</td>\n",
       "    </tr>\n",
       "    <tr>\n",
       "      <th>8837</th>\n",
       "      <td>2023-05-05 14:21</td>\n",
       "      <td>A$AP Ferg</td>\n",
       "      <td>Floor Seats</td>\n",
       "      <td>0</td>\n",
       "    </tr>\n",
       "    <tr>\n",
       "      <th>8838</th>\n",
       "      <td>2023-05-05 14:21</td>\n",
       "      <td>Kendrick Lamar</td>\n",
       "      <td>u</td>\n",
       "      <td>833</td>\n",
       "    </tr>\n",
       "    <tr>\n",
       "      <th>8839</th>\n",
       "      <td>2023-05-05 14:26</td>\n",
       "      <td>Baby Keem</td>\n",
       "      <td>trademark usa</td>\n",
       "      <td>270670</td>\n",
       "    </tr>\n",
       "    <tr>\n",
       "      <th>8840</th>\n",
       "      <td>2023-05-05 14:27</td>\n",
       "      <td>A$AP Ferg</td>\n",
       "      <td>Floor Seats</td>\n",
       "      <td>70224</td>\n",
       "    </tr>\n",
       "  </tbody>\n",
       "</table>\n",
       "</div>"
      ],
      "text/plain": [
       "               endTime      artistName   \n",
       "8836  2023-05-05 14:21       A$AP Ferg  \\\n",
       "8837  2023-05-05 14:21       A$AP Ferg   \n",
       "8838  2023-05-05 14:21  Kendrick Lamar   \n",
       "8839  2023-05-05 14:26       Baby Keem   \n",
       "8840  2023-05-05 14:27       A$AP Ferg   \n",
       "\n",
       "                                              trackName  msPlayed  \n",
       "8836  Dreams, Fairytales, Fantasies (feat. Brent Fai...       709  \n",
       "8837                                        Floor Seats         0  \n",
       "8838                                                  u       833  \n",
       "8839                                      trademark usa    270670  \n",
       "8840                                        Floor Seats     70224  "
      ]
     },
     "execution_count": 4,
     "metadata": {},
     "output_type": "execute_result"
    }
   ],
   "source": [
    "spotify_stream_df = pd.read_json(\"MyData/StreamingHistory0.json\")\n",
    "spotify_stream_df.tail()"
   ]
  },
  {
   "cell_type": "code",
   "execution_count": 5,
   "metadata": {},
   "outputs": [
    {
     "data": {
      "text/plain": [
       "(8841, 4)"
      ]
     },
     "execution_count": 5,
     "metadata": {},
     "output_type": "execute_result"
    }
   ],
   "source": [
    "spotify_stream_df.shape"
   ]
  },
  {
   "cell_type": "code",
   "execution_count": 6,
   "metadata": {},
   "outputs": [
    {
     "name": "stdout",
     "output_type": "stream",
     "text": [
      "<class 'pandas.core.frame.DataFrame'>\n",
      "RangeIndex: 8841 entries, 0 to 8840\n",
      "Data columns (total 4 columns):\n",
      " #   Column      Non-Null Count  Dtype \n",
      "---  ------      --------------  ----- \n",
      " 0   endTime     8841 non-null   object\n",
      " 1   artistName  8841 non-null   object\n",
      " 2   trackName   8841 non-null   object\n",
      " 3   msPlayed    8841 non-null   int64 \n",
      "dtypes: int64(1), object(3)\n",
      "memory usage: 276.4+ KB\n"
     ]
    }
   ],
   "source": [
    "spotify_stream_df.info() "
   ]
  },
  {
   "cell_type": "code",
   "execution_count": 7,
   "metadata": {},
   "outputs": [
    {
     "data": {
      "text/plain": [
       "endTime       4667\n",
       "artistName     695\n",
       "trackName     1816\n",
       "msPlayed      4715\n",
       "dtype: int64"
      ]
     },
     "execution_count": 7,
     "metadata": {},
     "output_type": "execute_result"
    }
   ],
   "source": [
    "spotify_stream_df.nunique() # To see the unique elemetns present in each column"
   ]
  },
  {
   "cell_type": "code",
   "execution_count": 8,
   "metadata": {},
   "outputs": [
    {
     "data": {
      "text/html": [
       "<div>\n",
       "<style scoped>\n",
       "    .dataframe tbody tr th:only-of-type {\n",
       "        vertical-align: middle;\n",
       "    }\n",
       "\n",
       "    .dataframe tbody tr th {\n",
       "        vertical-align: top;\n",
       "    }\n",
       "\n",
       "    .dataframe thead th {\n",
       "        text-align: right;\n",
       "    }\n",
       "</style>\n",
       "<table border=\"1\" class=\"dataframe\">\n",
       "  <thead>\n",
       "    <tr style=\"text-align: right;\">\n",
       "      <th></th>\n",
       "      <th>endTime</th>\n",
       "      <th>artistName</th>\n",
       "      <th>trackName</th>\n",
       "      <th>msPlayed</th>\n",
       "    </tr>\n",
       "  </thead>\n",
       "  <tbody>\n",
       "    <tr>\n",
       "      <th>5538</th>\n",
       "      <td>2023-03-16 02:47</td>\n",
       "      <td>2Pac</td>\n",
       "      <td>All Eyez On Me (ft. Big Syke)</td>\n",
       "      <td>954</td>\n",
       "    </tr>\n",
       "    <tr>\n",
       "      <th>1523</th>\n",
       "      <td>2023-01-01 05:29</td>\n",
       "      <td>Kendrick Lamar</td>\n",
       "      <td>Now Or Never - Bonus Track</td>\n",
       "      <td>4602</td>\n",
       "    </tr>\n",
       "    <tr>\n",
       "      <th>3858</th>\n",
       "      <td>2023-02-11 20:39</td>\n",
       "      <td>Genjutsu Beats</td>\n",
       "      <td>Sparta</td>\n",
       "      <td>0</td>\n",
       "    </tr>\n",
       "    <tr>\n",
       "      <th>4781</th>\n",
       "      <td>2023-02-24 15:14</td>\n",
       "      <td>King</td>\n",
       "      <td>Ektarfa</td>\n",
       "      <td>14089</td>\n",
       "    </tr>\n",
       "    <tr>\n",
       "      <th>1203</th>\n",
       "      <td>2022-12-26 10:58</td>\n",
       "      <td>Unknown Artist</td>\n",
       "      <td>Unknown Track</td>\n",
       "      <td>721</td>\n",
       "    </tr>\n",
       "    <tr>\n",
       "      <th>7119</th>\n",
       "      <td>2023-04-05 18:08</td>\n",
       "      <td>Rashid Ali</td>\n",
       "      <td>Kabhi Kabhi Aditi</td>\n",
       "      <td>218836</td>\n",
       "    </tr>\n",
       "    <tr>\n",
       "      <th>6496</th>\n",
       "      <td>2023-03-27 08:30</td>\n",
       "      <td>Sidharth Basrur</td>\n",
       "      <td>Mujhe De De Har Gham Tera</td>\n",
       "      <td>25727</td>\n",
       "    </tr>\n",
       "    <tr>\n",
       "      <th>5604</th>\n",
       "      <td>2023-03-17 14:31</td>\n",
       "      <td>Joji</td>\n",
       "      <td>Die For You</td>\n",
       "      <td>211666</td>\n",
       "    </tr>\n",
       "    <tr>\n",
       "      <th>1886</th>\n",
       "      <td>2023-01-09 11:27</td>\n",
       "      <td>Bas</td>\n",
       "      <td>[The Jackie] (with J. Cole &amp; Lil Tjay)</td>\n",
       "      <td>3303</td>\n",
       "    </tr>\n",
       "    <tr>\n",
       "      <th>6695</th>\n",
       "      <td>2023-03-30 04:44</td>\n",
       "      <td>Lil Durk</td>\n",
       "      <td>JUMP (feat. Memo600)</td>\n",
       "      <td>192718</td>\n",
       "    </tr>\n",
       "  </tbody>\n",
       "</table>\n",
       "</div>"
      ],
      "text/plain": [
       "               endTime       artistName   \n",
       "5538  2023-03-16 02:47             2Pac  \\\n",
       "1523  2023-01-01 05:29   Kendrick Lamar   \n",
       "3858  2023-02-11 20:39   Genjutsu Beats   \n",
       "4781  2023-02-24 15:14             King   \n",
       "1203  2022-12-26 10:58   Unknown Artist   \n",
       "7119  2023-04-05 18:08       Rashid Ali   \n",
       "6496  2023-03-27 08:30  Sidharth Basrur   \n",
       "5604  2023-03-17 14:31             Joji   \n",
       "1886  2023-01-09 11:27              Bas   \n",
       "6695  2023-03-30 04:44         Lil Durk   \n",
       "\n",
       "                                   trackName  msPlayed  \n",
       "5538           All Eyez On Me (ft. Big Syke)       954  \n",
       "1523              Now Or Never - Bonus Track      4602  \n",
       "3858                                  Sparta         0  \n",
       "4781                                 Ektarfa     14089  \n",
       "1203                           Unknown Track       721  \n",
       "7119                       Kabhi Kabhi Aditi    218836  \n",
       "6496               Mujhe De De Har Gham Tera     25727  \n",
       "5604                             Die For You    211666  \n",
       "1886  [The Jackie] (with J. Cole & Lil Tjay)      3303  \n",
       "6695                    JUMP (feat. Memo600)    192718  "
      ]
     },
     "execution_count": 8,
     "metadata": {},
     "output_type": "execute_result"
    }
   ],
   "source": [
    "spotify_stream_df.sample(10)"
   ]
  },
  {
   "cell_type": "code",
   "execution_count": 9,
   "metadata": {},
   "outputs": [
    {
     "data": {
      "text/plain": [
       "695"
      ]
     },
     "execution_count": 9,
     "metadata": {},
     "output_type": "execute_result"
    }
   ],
   "source": [
    "len(spotify_stream_df[\"artistName\"].unique()) # Length of unique artist"
   ]
  },
  {
   "attachments": {},
   "cell_type": "markdown",
   "metadata": {},
   "source": [
    "there's 695 number of unique artist in my streaming history"
   ]
  },
  {
   "cell_type": "code",
   "execution_count": null,
   "metadata": {},
   "outputs": [],
   "source": []
  }
 ],
 "metadata": {
  "kernelspec": {
   "display_name": "Python 3 (ipykernel)",
   "language": "python",
   "name": "python3"
  },
  "language_info": {
   "codemirror_mode": {
    "name": "ipython",
    "version": 3
   },
   "file_extension": ".py",
   "mimetype": "text/x-python",
   "name": "python",
   "nbconvert_exporter": "python",
   "pygments_lexer": "ipython3",
   "version": "3.10.11"
  }
 },
 "nbformat": 4,
 "nbformat_minor": 2
}
